{
 "cells": [
  {
   "cell_type": "code",
   "execution_count": 4,
   "id": "b0b6f4f4-5b16-48a7-8ebe-c4247a95c6c6",
   "metadata": {},
   "outputs": [
    {
     "name": "stdout",
     "output_type": "stream",
     "text": [
      "system_supports_plotting: True\n"
     ]
    },
    {
     "data": {
      "application/vnd.jupyter.widget-view+json": {
       "model_id": "fcb5acd306954c12a811430204a1e7e4",
       "version_major": 2,
       "version_minor": 0
      },
      "text/plain": [
       "ViewInteractiveWidget(height=768, layout=Layout(height='auto', width='100%'), width=1024)"
      ]
     },
     "metadata": {},
     "output_type": "display_data"
    }
   ],
   "source": [
    "\"\"\"Quickly check if VTK off screen plotting works.\"\"\"\n",
    "import pyvista\n",
    "from pyvista.plotting import system_supports_plotting\n",
    "\n",
    "print(f'system_supports_plotting: {system_supports_plotting()}')\n",
    "assert system_supports_plotting()\n",
    "# pyvista.OFF_SCREEN = True  # should be set by Action in Env\n",
    "sphere = pyvista.Sphere()\n",
    "pyvista.plot(sphere, screenshot='sphere.png')"
   ]
  },
  {
   "cell_type": "code",
   "execution_count": 9,
   "id": "f54f0bf8-5dfc-4f80-a6e1-5fbf0661bb71",
   "metadata": {
    "tags": []
   },
   "outputs": [],
   "source": [
    "import matplotlib.pyplot as plt\n",
    "\n",
    "# sphinx_gallery_thumbnail_number = 2\n",
    "import pyvista as pv\n",
    "from pyvista import examples\n",
    "\n",
    "# Get a sample file\n",
    "filename = examples.planefile\n",
    "mesh = pv.read(filename)"
   ]
  },
  {
   "cell_type": "code",
   "execution_count": 10,
   "id": "df83146a-ff31-4263-9f64-3794ed557a11",
   "metadata": {},
   "outputs": [
    {
     "data": {
      "application/vnd.jupyter.widget-view+json": {
       "model_id": "24851299200a42eaa114779b8de01f81",
       "version_major": 2,
       "version_minor": 0
      },
      "text/plain": [
       "ViewInteractiveWidget(height=768, layout=Layout(height='auto', width='100%'), width=1024)"
      ]
     },
     "metadata": {},
     "output_type": "display_data"
    }
   ],
   "source": [
    "plotter = pv.Plotter(off_screen=True)\n",
    "plotter.add_mesh(mesh, color=\"orange\")\n",
    "plotter.show(screenshot='airplane.png')"
   ]
  },
  {
   "cell_type": "code",
   "execution_count": 11,
   "id": "b6b4d06d-e38a-45ca-9d72-b06a69294217",
   "metadata": {},
   "outputs": [
    {
     "ename": "AttributeError",
     "evalue": "\nThis plotter has not yet been setup and rendered with ``show()``.\nConsider setting ``off_screen=True`` for off screen rendering.\n",
     "output_type": "error",
     "traceback": [
      "\u001b[1;31m----------------------------------------------------------------------\u001b[0m",
      "\u001b[1;31mAttributeError\u001b[0m                       Traceback (most recent call last)",
      "Input \u001b[1;32mIn [11]\u001b[0m, in \u001b[0;36m<cell line: 1>\u001b[1;34m()\u001b[0m\n\u001b[1;32m----> 1\u001b[0m plt\u001b[38;5;241m.\u001b[39mimshow(\u001b[43mplotter\u001b[49m\u001b[38;5;241;43m.\u001b[39;49m\u001b[43mimage\u001b[49m)\n\u001b[0;32m      2\u001b[0m plt\u001b[38;5;241m.\u001b[39mshow()\n",
      "File \u001b[1;32m~\\Anaconda3\\lib\\site-packages\\pyvista\\plotting\\plotting.py:1207\u001b[0m, in \u001b[0;36mBasePlotter.image\u001b[1;34m(self)\u001b[0m\n\u001b[0;32m   1204\u001b[0m \u001b[38;5;28;01mif\u001b[39;00m \u001b[38;5;129;01mnot\u001b[39;00m \u001b[38;5;28mhasattr\u001b[39m(\u001b[38;5;28mself\u001b[39m, \u001b[38;5;124m'\u001b[39m\u001b[38;5;124mren_win\u001b[39m\u001b[38;5;124m'\u001b[39m) \u001b[38;5;129;01mand\u001b[39;00m \u001b[38;5;28mself\u001b[39m\u001b[38;5;241m.\u001b[39mlast_image \u001b[38;5;129;01mis\u001b[39;00m \u001b[38;5;129;01mnot\u001b[39;00m \u001b[38;5;28;01mNone\u001b[39;00m:\n\u001b[0;32m   1205\u001b[0m     \u001b[38;5;28;01mreturn\u001b[39;00m \u001b[38;5;28mself\u001b[39m\u001b[38;5;241m.\u001b[39mlast_image\n\u001b[1;32m-> 1207\u001b[0m \u001b[38;5;28;43mself\u001b[39;49m\u001b[38;5;241;43m.\u001b[39;49m\u001b[43m_check_rendered\u001b[49m\u001b[43m(\u001b[49m\u001b[43m)\u001b[49m\n\u001b[0;32m   1208\u001b[0m \u001b[38;5;28mself\u001b[39m\u001b[38;5;241m.\u001b[39m_check_has_ren_win()\n\u001b[0;32m   1210\u001b[0m data \u001b[38;5;241m=\u001b[39m image_from_window(\u001b[38;5;28mself\u001b[39m\u001b[38;5;241m.\u001b[39mren_win)\n",
      "File \u001b[1;32m~\\Anaconda3\\lib\\site-packages\\pyvista\\plotting\\plotting.py:1184\u001b[0m, in \u001b[0;36mBasePlotter._check_rendered\u001b[1;34m(self)\u001b[0m\n\u001b[0;32m   1182\u001b[0m \u001b[38;5;124;03m\"\"\"Check if the render window has been shown and raise an exception if not.\"\"\"\u001b[39;00m\n\u001b[0;32m   1183\u001b[0m \u001b[38;5;28;01mif\u001b[39;00m \u001b[38;5;129;01mnot\u001b[39;00m \u001b[38;5;28mself\u001b[39m\u001b[38;5;241m.\u001b[39m_rendered:\n\u001b[1;32m-> 1184\u001b[0m     \u001b[38;5;28;01mraise\u001b[39;00m \u001b[38;5;167;01mAttributeError\u001b[39;00m(\u001b[38;5;124m'\u001b[39m\u001b[38;5;130;01m\\n\u001b[39;00m\u001b[38;5;124mThis plotter has not yet been setup and rendered \u001b[39m\u001b[38;5;124m'\u001b[39m\n\u001b[0;32m   1185\u001b[0m                          \u001b[38;5;124m'\u001b[39m\u001b[38;5;124mwith ``show()``.\u001b[39m\u001b[38;5;130;01m\\n\u001b[39;00m\u001b[38;5;124m'\u001b[39m\n\u001b[0;32m   1186\u001b[0m                          \u001b[38;5;124m'\u001b[39m\u001b[38;5;124mConsider setting ``off_screen=True`` \u001b[39m\u001b[38;5;124m'\u001b[39m\n\u001b[0;32m   1187\u001b[0m                          \u001b[38;5;124m'\u001b[39m\u001b[38;5;124mfor off screen rendering.\u001b[39m\u001b[38;5;130;01m\\n\u001b[39;00m\u001b[38;5;124m'\u001b[39m)\n",
      "\u001b[1;31mAttributeError\u001b[0m: \nThis plotter has not yet been setup and rendered with ``show()``.\nConsider setting ``off_screen=True`` for off screen rendering.\n"
     ]
    }
   ],
   "source": [
    "plt.imshow(plotter.image)\n",
    "plt.show()"
   ]
  },
  {
   "cell_type": "code",
   "execution_count": null,
   "id": "e50d4e8b-6ad2-4ad9-b7f6-393d89e5352c",
   "metadata": {},
   "outputs": [],
   "source": []
  }
 ],
 "metadata": {
  "kernelspec": {
   "display_name": "Python 3 (ipykernel)",
   "language": "python",
   "name": "python3"
  },
  "language_info": {
   "codemirror_mode": {
    "name": "ipython",
    "version": 3
   },
   "file_extension": ".py",
   "mimetype": "text/x-python",
   "name": "python",
   "nbconvert_exporter": "python",
   "pygments_lexer": "ipython3",
   "version": "3.9.7"
  }
 },
 "nbformat": 4,
 "nbformat_minor": 5
}
