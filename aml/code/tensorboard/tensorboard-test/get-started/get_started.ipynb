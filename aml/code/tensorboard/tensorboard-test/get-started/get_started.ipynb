{
  "cells": [
    {
      "cell_type": "markdown",
      "source": [
        "##### Copyright 2019 The TensorFlow Authors."
      ],
      "metadata": {
        "id": "SB93Ge748VQs"
      }
    },
    {
      "cell_type": "code",
      "source": [
        "#@title Licensed under the Apache License, Version 2.0 (the \"License\");\n",
        "# you may not use this file except in compliance with the License.\n",
        "# You may obtain a copy of the License at\n",
        "#\n",
        "# https://www.apache.org/licenses/LICENSE-2.0\n",
        "#\n",
        "# Unless required by applicable law or agreed to in writing, software\n",
        "# distributed under the License is distributed on an \"AS IS\" BASIS,\n",
        "# WITHOUT WARRANTIES OR CONDITIONS OF ANY KIND, either express or implied.\n",
        "# See the License for the specific language governing permissions and\n",
        "# limitations under the License."
      ],
      "outputs": [],
      "execution_count": null,
      "metadata": {
        "cellView": "form",
        "id": "0sK8X2O9bTlz"
      }
    },
    {
      "cell_type": "code",
      "source": [
        "!printenv"
      ],
      "outputs": [
        {
          "output_type": "stream",
          "name": "stdout",
          "text": "MSI_ENDPOINT=http://127.0.1.1:46808/MSI/auth\r\nLANG=C.UTF-8\r\nMSI_SECRET_JOB=SGJ7dMpMjlnLAh77hPbc\r\nINVOCATION_ID=d93d4daaf414419fa24306b7da115e0f\r\nCI_RESOURCE_GROUP=rg-dev-geog-eastus\r\nOBO_ENDPOINT=http://127.0.1.1:46808/OBO/token\r\nTF2_BEHAVIOR=1\r\nUSER=azureuser\r\nAML_CloudName=AzureCloud\r\nPAGER=cat\r\nCI_WORKSPACE=mlw-dev-geog-01\r\nMKL_THREADING_LAYER=GNU\r\nJPY_PARENT_PID=6585\r\nPWD=/mnt/batch/tasks/shared/LS_root/mounts/clusters/wandent-msft2/code/Users/wandent/tensorboard-test/get-started\r\nHOME=/home/azureuser\r\nJOURNAL_STREAM=9:61960\r\nCLICOLOR=1\r\nDEFAULT_IDENTITY_CLIENT_ID=clientid\r\nAPPSETTING_WEBSITE_SITE_NAME=AMLComputeInstance\r\nCI_NAME=wandent-msft2\r\nTERM=xterm-color\r\nSHELL=/bin/bash\r\nMPLBACKEND=module://ipykernel.pylab.backend_inline\r\nMSI_SECRET=qGIJNadZBowAzPltYIGf\r\nSHLVL=1\r\nCI_LOCAL_UBUNTU_USER=azureuser\r\nGIT_PYTHON_REFRESH=quiet\r\nLOGNAME=azureuser\r\nMLFLOW_TRACKING_URI=azureml://eastus.api.azureml.ms/mlflow/v1.0/subscriptions/062bbb35-45d7-40c6-937f-a43ab3667b0f/resourceGroups/rg-dev-geog-eastus/providers/Microsoft.MachineLearningServices/workspaces/mlw-dev-geog-01\r\nENABLE_MLFLOW_AUTOLOG=false\r\nPATH=/anaconda/envs/azureml_py36/bin/:/usr/local/sbin:/usr/local/bin:/usr/sbin:/usr/bin:/sbin:/bin:/usr/games:/usr/local/games:/snap/bin\r\nGIT_PAGER=cat\r\n_=/usr/bin/printenv\r\n"
        }
      ],
      "execution_count": 26,
      "metadata": {
        "jupyter": {
          "source_hidden": false,
          "outputs_hidden": false
        },
        "nteract": {
          "transient": {
            "deleting": false
          }
        }
      }
    },
    {
      "cell_type": "code",
      "source": [
        "!pip install -U azureml-core\r\n",
        "!pip install -U azureml-telemetry\r\n",
        "!pip install -U azureml-tensorboard\r\n",
        "!pip install -U tensorboard-plugin-\r\n",
        "!pip install -U azureml-train"
      ],
      "outputs": [
        {
          "output_type": "stream",
          "name": "stdout",
          "text": "/bin/bash: pip: command not found\n/bin/bash: pip: command not found\n/bin/bash: pip: command not found\n/bin/bash: pip: command not found\n/bin/bash: pip: command not found\n"
        }
      ],
      "execution_count": 1,
      "metadata": {
        "jupyter": {
          "source_hidden": false,
          "outputs_hidden": false
        },
        "nteract": {
          "transient": {
            "deleting": false
          }
        },
        "gather": {
          "logged": 1649354405138
        }
      }
    },
    {
      "cell_type": "markdown",
      "source": [
        "# Get started with TensorBoard\n",
        "\n",
        "<table class=\"tfo-notebook-buttons\" align=\"left\">\n",
        "  <td>\n",
        "    <a target=\"_blank\" href=\"https://www.tensorflow.org/tensorboard/get_started\"><img src=\"https://www.tensorflow.org/images/tf_logo_32px.png\" />View on TensorFlow.org</a>\n",
        "  </td>\n",
        "  <td>\n",
        "    <a target=\"_blank\" href=\"https://colab.research.google.com/github/tensorflow/tensorboard/blob/master/docs/get_started.ipynb\"><img src=\"https://www.tensorflow.org/images/colab_logo_32px.png\" />Run in Google Colab</a>\n",
        "  </td>\n",
        "  <td>\n",
        "    <a target=\"_blank\" href=\"https://github.com/tensorflow/tensorboard/blob/master/docs/get_started.ipynb\"><img src=\"https://www.tensorflow.org/images/GitHub-Mark-32px.png\" />View source on GitHub</a>\n",
        "  </td>\n",
        "  <td>\n",
        "    <a href=\"https://storage.googleapis.com/tensorflow_docs/tensorboard/docs/get_started.ipynb\"><img src=\"https://www.tensorflow.org/images/download_logo_32px.png\" />Download notebook</a>\n",
        "  </td>\n",
        "</table>"
      ],
      "metadata": {
        "id": "HEYuO5NFwDK9"
      }
    },
    {
      "cell_type": "markdown",
      "source": [
        "In machine learning, to improve something you often need to be able to measure it. TensorBoard is a tool for providing the measurements and visualizations needed during the machine learning workflow. It enables tracking experiment metrics like loss and accuracy, visualizing the model graph, projecting embeddings to a lower dimensional space, and much more.\n",
        "\n",
        "This quickstart will show how to quickly get started with TensorBoard. The remaining guides in this website provide more details on specific capabilities, many of which are not included here. "
      ],
      "metadata": {
        "id": "56V5oun18ZdZ"
      }
    },
    {
      "cell_type": "code",
      "source": [
        "# Load the TensorBoard notebook extension\n",
        "#%load_ext tensorboard\n",
        "!pip install azureml-tensorboard"
      ],
      "outputs": [
        {
          "output_type": "stream",
          "name": "stdout",
          "text": "/bin/bash: pip: command not found\r\n"
        }
      ],
      "execution_count": 15,
      "metadata": {
        "id": "6B95Hb6YVgPZ",
        "gather": {
          "logged": 1649354309843
        }
      }
    },
    {
      "cell_type": "code",
      "source": [
        "import tensorflow as tf\n",
        "import datetime"
      ],
      "outputs": [],
      "execution_count": 6,
      "metadata": {
        "id": "_wqSAZExy6xV",
        "gather": {
          "logged": 1649359202299
        }
      }
    },
    {
      "cell_type": "code",
      "source": [
        "# Clear any logs from previous runs\n",
        "!rm -rf ./logs/ "
      ],
      "outputs": [],
      "execution_count": 7,
      "metadata": {
        "id": "Ao7fJW1Pyiza",
        "gather": {
          "logged": 1649359206298
        }
      }
    },
    {
      "cell_type": "markdown",
      "source": [
        "Using the [MNIST](https://en.wikipedia.org/wiki/MNIST_database) dataset as the example, normalize the data and write a function that creates a simple Keras model for classifying the images into 10 classes."
      ],
      "metadata": {
        "id": "z5pr9vuHVgXY"
      }
    },
    {
      "cell_type": "code",
      "source": [
        "mnist = tf.keras.datasets.mnist\n",
        "\n",
        "(x_train, y_train),(x_test, y_test) = mnist.load_data()\n",
        "x_train, x_test = x_train / 255.0, x_test / 255.0\n",
        "\n",
        "def create_model():\n",
        "  return tf.keras.models.Sequential([\n",
        "    tf.keras.layers.Flatten(input_shape=(28, 28)),\n",
        "    tf.keras.layers.Dense(512, activation='relu'),\n",
        "    tf.keras.layers.Dropout(0.2),\n",
        "    tf.keras.layers.Dense(10, activation='softmax')\n",
        "  ])"
      ],
      "outputs": [],
      "execution_count": 8,
      "metadata": {
        "id": "j-DHsby18cot",
        "gather": {
          "logged": 1649359214772
        }
      }
    },
    {
      "cell_type": "markdown",
      "source": [
        "## Using TensorBoard with Keras Model.fit()"
      ],
      "metadata": {
        "id": "XKUjdIoV87um"
      }
    },
    {
      "cell_type": "markdown",
      "source": [
        "When training with Keras's [Model.fit()](https://www.tensorflow.org/api_docs/python/tf/keras/models/Model#fit), adding the `tf.keras.callbacks.TensorBoard` callback ensures that logs are created and stored. Additionally, enable histogram computation every epoch with `histogram_freq=1` (this is off by default)\n",
        "\n",
        "Place the logs in a timestamped subdirectory to allow easy selection of different training runs."
      ],
      "metadata": {
        "id": "8CL_lxdn8-Sv"
      }
    },
    {
      "cell_type": "code",
      "source": [
        "model = create_model()\n",
        "model.compile(optimizer='adam',\n",
        "              loss='sparse_categorical_crossentropy',\n",
        "              metrics=['accuracy'])\n",
        "\n",
        "log_dir = \"logs/fit/\" + datetime.datetime.now().strftime(\"%Y%m%d-%H%M%S\")\n",
        "# use the callbacks to endsure that the logs are created and stored\n",
        "tensorboard_callback = tf.keras.callbacks.TensorBoard(log_dir=log_dir, histogram_freq=1)\n",
        "\n",
        "model.fit(x=x_train, \n",
        "          y=y_train, \n",
        "          epochs=5, \n",
        "          validation_data=(x_test, y_test), \n",
        "          callbacks=[tensorboard_callback])"
      ],
      "outputs": [
        {
          "output_type": "stream",
          "name": "stdout",
          "text": "Epoch 1/5\n1875/1875 [==============================] - 5s 2ms/step - loss: 0.2235 - accuracy: 0.9335 - val_loss: 0.1052 - val_accuracy: 0.9668\b\b\b\b\b\b\b\b\b\b\b\b\b\b\b\b\b\b\b\b\b\b\b\b\b\b\b\b\b\b\b\b\b\b\b\b\b\b\b\b\b\b\b\b\b\b\nEpoch 2/5\n1875/1875 [==============================] - 4s 2ms/step - loss: 0.0973 - accuracy: 0.9702 - val_loss: 0.0909 - val_accuracy: 0.9699\b\b\b\b\b\b\b\b\b\b\b\b\b\b\b\b\b\b\b\b\b\b\b\b\b\b\b\b\b\b\b\b\b\b\b\b\b\b\b\b\nEpoch 3/5\n1875/1875 [==============================] - 4s 2ms/step - loss: 0.0689 - accuracy: 0.9774 - val_loss: 0.0788 - val_accuracy: 0.9752\b\b\b\b\b\b\b\b\b\b\b\b\b\b\b\b\b\b\b\b\b\b\b\b\b\b\b\b\b\b\b\b\b\b\b\b\b\b\b\b\b\b\nEpoch 4/5\n1875/1875 [==============================] - 4s 2ms/step - loss: 0.0530 - accuracy: 0.9827 - val_loss: 0.0678 - val_accuracy: 0.9792\b\b\b\b\b\b\b\b\b\b\b\b\b\b\b\b\b\b\b\b\b\b\b\b\b\b\b\b\b\b\b\b\b\b\b\b\b\b\b\b\nEpoch 5/5\n1875/1875 [==============================] - 4s 2ms/step - loss: 0.0420 - accuracy: 0.9859 - val_loss: 0.0587 - val_accuracy: 0.9818\b\b\b\b\b\b\b\b\b\b\b\b\b\b\b\b\b\b\b\b\b\b\b\b\b\b\b\b\b\b\b\b\b\b\b\b\b\b\b\b\n"
        },
        {
          "output_type": "execute_result",
          "execution_count": 9,
          "data": {
            "text/plain": "<keras.callbacks.History at 0x7f0be80dff40>"
          },
          "metadata": {}
        }
      ],
      "execution_count": 9,
      "metadata": {
        "id": "WAQThq539CEJ",
        "gather": {
          "logged": 1649359260774
        }
      }
    },
    {
      "cell_type": "markdown",
      "source": [
        "Start TensorBoard through the command line or within a notebook experience. The two interfaces are generally the same. In notebooks, use the `%tensorboard` line magic. On the command line, run the same command without \"%\"."
      ],
      "metadata": {
        "id": "asjGpmD09dRl"
      }
    },
    {
      "cell_type": "code",
      "source": [
        "#!printenv path\r\n",
        "!tensorboard --logdir logs/fit"
      ],
      "outputs": [
        {
          "output_type": "stream",
          "name": "stdout",
          "text": "/bin/bash: tensorboard: command not found\r\n"
        }
      ],
      "execution_count": 14,
      "metadata": {
        "id": "A4UKgTLb9fKI",
        "gather": {
          "logged": 1649359302656
        }
      }
    },
    {
      "cell_type": "markdown",
      "source": [
        "<!-- <img class=\"tfo-display-only-on-site\" src=\"https://github.com/tensorflow/tensorboard/blob/master/docs/images/quickstart_model_fit.png?raw=1\"/> -->"
      ],
      "metadata": {
        "id": "MCsoUNb6YhGc"
      }
    },
    {
      "cell_type": "markdown",
      "source": [
        "A brief overview of the dashboards shown (tabs in top navigation bar):\n",
        "\n",
        "* The **Scalars** dashboard shows how the loss and metrics change with every epoch. You can use it to also track training speed, learning rate, and other scalar values.\n",
        "* The **Graphs** dashboard helps you visualize your model. In this case, the Keras graph of layers is shown which can help you ensure it is built correctly. \n",
        "* The **Distributions** and **Histograms** dashboards show the distribution of a Tensor over time. This can be useful to visualize weights and biases and verify that they are changing in an expected way.\n",
        "\n",
        "Additional TensorBoard plugins are automatically enabled when you log other types of data. For example, the Keras TensorBoard callback lets you log images and embeddings as well. You can see what other plugins are available in TensorBoard by clicking on the \"inactive\" dropdown towards the top right."
      ],
      "metadata": {
        "id": "Gi4PaRm39of2"
      }
    },
    {
      "cell_type": "markdown",
      "source": [
        "## Using TensorBoard with other methods\n"
      ],
      "metadata": {
        "id": "nB718NOH95yG"
      }
    },
    {
      "cell_type": "markdown",
      "source": [
        "When training with methods such as [`tf.GradientTape()`](https://www.tensorflow.org/api_docs/python/tf/GradientTape), use `tf.summary` to log the required information.\n",
        "\n",
        "Use the same dataset as above, but convert it to `tf.data.Dataset` to take advantage of batching capabilities:"
      ],
      "metadata": {
        "id": "IKNt0nWs-Ekt"
      }
    },
    {
      "cell_type": "code",
      "source": [
        "train_dataset = tf.data.Dataset.from_tensor_slices((x_train, y_train))\n",
        "test_dataset = tf.data.Dataset.from_tensor_slices((x_test, y_test))\n",
        "\n",
        "train_dataset = train_dataset.shuffle(60000).batch(64)\n",
        "test_dataset = test_dataset.batch(64)"
      ],
      "outputs": [],
      "execution_count": 15,
      "metadata": {
        "id": "nnHx4DsMezy1",
        "gather": {
          "logged": 1649359393561
        }
      }
    },
    {
      "cell_type": "markdown",
      "source": [
        "The training code follows the [advanced quickstart](https://www.tensorflow.org/tutorials/quickstart/advanced) tutorial, but shows how to log metrics to TensorBoard. Choose loss and optimizer:"
      ],
      "metadata": {
        "id": "SzpmTmJafJ10"
      }
    },
    {
      "cell_type": "code",
      "source": [
        "loss_object = tf.keras.losses.SparseCategoricalCrossentropy()\n",
        "optimizer = tf.keras.optimizers.Adam()"
      ],
      "outputs": [],
      "execution_count": 16,
      "metadata": {
        "id": "H2Y5-aPbAANs",
        "gather": {
          "logged": 1649359397790
        }
      }
    },
    {
      "cell_type": "markdown",
      "source": [
        "Create stateful metrics that can be used to accumulate values during training and logged at any point:"
      ],
      "metadata": {
        "id": "cKhIIDj9Hbfy"
      }
    },
    {
      "cell_type": "code",
      "source": [
        "# Define our metrics\n",
        "train_loss = tf.keras.metrics.Mean('train_loss', dtype=tf.float32)\n",
        "train_accuracy = tf.keras.metrics.SparseCategoricalAccuracy('train_accuracy')\n",
        "test_loss = tf.keras.metrics.Mean('test_loss', dtype=tf.float32)\n",
        "test_accuracy = tf.keras.metrics.SparseCategoricalAccuracy('test_accuracy')"
      ],
      "outputs": [],
      "execution_count": 17,
      "metadata": {
        "id": "jD0tEWrgH0TL",
        "gather": {
          "logged": 1649359402384
        }
      }
    },
    {
      "cell_type": "markdown",
      "source": [
        "Define the training and test functions:"
      ],
      "metadata": {
        "id": "szw_KrgOg-OT"
      }
    },
    {
      "cell_type": "code",
      "source": [
        "def train_step(model, optimizer, x_train, y_train):\n",
        "  with tf.GradientTape() as tape:\n",
        "    predictions = model(x_train, training=True)\n",
        "    loss = loss_object(y_train, predictions)\n",
        "  grads = tape.gradient(loss, model.trainable_variables)\n",
        "  optimizer.apply_gradients(zip(grads, model.trainable_variables))\n",
        "\n",
        "  train_loss(loss)\n",
        "  train_accuracy(y_train, predictions)\n",
        "\n",
        "def test_step(model, x_test, y_test):\n",
        "  predictions = model(x_test)\n",
        "  loss = loss_object(y_test, predictions)\n",
        "\n",
        "  test_loss(loss)\n",
        "  test_accuracy(y_test, predictions)"
      ],
      "outputs": [],
      "execution_count": 18,
      "metadata": {
        "id": "TTWcJO35IJgK",
        "gather": {
          "logged": 1649359406085
        }
      }
    },
    {
      "cell_type": "markdown",
      "source": [
        "Set up summary writers to write the summaries to disk in a different logs directory:"
      ],
      "metadata": {
        "id": "nucPZBKPJR3A"
      }
    },
    {
      "cell_type": "code",
      "source": [
        "current_time = datetime.datetime.now().strftime(\"%Y%m%d-%H%M%S\")\n",
        "train_log_dir = 'logs/gradient_tape/' + current_time + '/train'\n",
        "test_log_dir = 'logs/gradient_tape/' + current_time + '/test'\n",
        "train_summary_writer = tf.summary.create_file_writer(train_log_dir)\n",
        "test_summary_writer = tf.summary.create_file_writer(test_log_dir)"
      ],
      "outputs": [],
      "execution_count": 19,
      "metadata": {
        "id": "3Qp-exmbWf4w",
        "gather": {
          "logged": 1649359411292
        }
      }
    },
    {
      "cell_type": "markdown",
      "source": [
        "Start training. Use `tf.summary.scalar()` to log metrics (loss and accuracy) during training/testing within the scope of the summary writers to write the summaries to disk. You have control over which metrics to log and how often to do it. Other `tf.summary` functions enable logging other types of data."
      ],
      "metadata": {
        "id": "qgUJgDdKWUKF"
      }
    },
    {
      "cell_type": "code",
      "source": [
        "model = create_model() # reset our model\n",
        "\n",
        "EPOCHS = 5\n",
        "\n",
        "for epoch in range(EPOCHS):\n",
        "  for (x_train, y_train) in train_dataset:\n",
        "    train_step(model, optimizer, x_train, y_train)\n",
        "  with train_summary_writer.as_default():\n",
        "    tf.summary.scalar('loss', train_loss.result(), step=epoch)\n",
        "    tf.summary.scalar('accuracy', train_accuracy.result(), step=epoch)\n",
        "\n",
        "  for (x_test, y_test) in test_dataset:\n",
        "    test_step(model, x_test, y_test)\n",
        "  with test_summary_writer.as_default():\n",
        "    tf.summary.scalar('loss', test_loss.result(), step=epoch)\n",
        "    tf.summary.scalar('accuracy', test_accuracy.result(), step=epoch)\n",
        "  \n",
        "  template = 'Epoch {}, Loss: {}, Accuracy: {}, Test Loss: {}, Test Accuracy: {}'\n",
        "  print (template.format(epoch+1,\n",
        "                         train_loss.result(), \n",
        "                         train_accuracy.result()*100,\n",
        "                         test_loss.result(), \n",
        "                         test_accuracy.result()*100))\n",
        "\n",
        "  # Reset metrics every epoch\n",
        "  train_loss.reset_states()\n",
        "  test_loss.reset_states()\n",
        "  train_accuracy.reset_states()\n",
        "  test_accuracy.reset_states()"
      ],
      "outputs": [
        {
          "output_type": "stream",
          "name": "stdout",
          "text": "Epoch 1, Loss: 0.24641771614551544, Accuracy: 92.78166961669922, Test Loss: 0.11906357854604721, Test Accuracy: 96.47000122070312\nEpoch 2, Loss: 0.10467921942472458, Accuracy: 96.87999725341797, Test Loss: 0.08568025380373001, Test Accuracy: 97.3699951171875\nEpoch 3, Loss: 0.07265210151672363, Accuracy: 97.77833557128906, Test Loss: 0.07048994302749634, Test Accuracy: 97.8699951171875\nEpoch 4, Loss: 0.056031353771686554, Accuracy: 98.24333190917969, Test Loss: 0.06990496069192886, Test Accuracy: 97.80999755859375\nEpoch 5, Loss: 0.04361996799707413, Accuracy: 98.57833099365234, Test Loss: 0.0617515966296196, Test Accuracy: 98.08999633789062\n"
        }
      ],
      "execution_count": 20,
      "metadata": {
        "id": "odWvHPpKJvb_",
        "gather": {
          "logged": 1649359473774
        }
      }
    },
    {
      "cell_type": "markdown",
      "source": [
        "Open TensorBoard again, this time pointing it at the new log directory. We could have also started TensorBoard to monitor training while it progresses."
      ],
      "metadata": {
        "id": "JikosQ84fzcA"
      }
    },
    {
      "cell_type": "code",
      "source": [
        "%tensorboard --logdir logs/gradient_tape"
      ],
      "outputs": [],
      "execution_count": null,
      "metadata": {
        "id": "-Iue509kgOyE"
      }
    },
    {
      "cell_type": "markdown",
      "source": [
        "<!-- <img class=\"tfo-display-only-on-site\" src=\"https://github.com/tensorflow/tensorboard/blob/master/docs/images/quickstart_gradient_tape.png?raw=1\"/> -->"
      ],
      "metadata": {
        "id": "NVpnilhEgQXk"
      }
    },
    {
      "cell_type": "markdown",
      "source": [
        "That's it! You have now seen how to use TensorBoard both through the Keras callback and through `tf.summary` for more custom scenarios. "
      ],
      "metadata": {
        "id": "ozbwXgPIkCKV"
      }
    },
    {
      "cell_type": "markdown",
      "source": [
        "## TensorBoard.dev: Host and share your ML experiment results\n",
        "\n",
        "[TensorBoard.dev](https://tensorboard.dev) is a free public service that enables you to upload your TensorBoard logs and get a permalink that can be shared with everyone in academic papers, blog posts, social media, etc.  This can enable better reproducibility and collaboration.\n",
        "\n",
        "To use TensorBoard.dev, run the following command:\n"
      ],
      "metadata": {
        "id": "vsowjhkBdkbK"
      }
    },
    {
      "cell_type": "code",
      "source": [
        "!tensorboard dev upload \\\n",
        "  --logdir logs/fit \\\n",
        "  --name \"(optional) My latest experiment\" \\\n",
        "  --description \"(optional) Simple comparison of several hyperparameters\" \\\n",
        "  --one_shot"
      ],
      "outputs": [
        {
          "output_type": "stream",
          "name": "stderr",
          "text": "UsageError: Line magic function `%tensorboard` not found.\n"
        }
      ],
      "execution_count": 24,
      "metadata": {
        "id": "Q3nupQL24E5E",
        "gather": {
          "logged": 1649359695835
        }
      }
    },
    {
      "cell_type": "markdown",
      "source": [
        "Note that this invocation uses the exclamation prefix (`!`) to invoke the shell\n",
        "rather than the percent prefix (`%`) to invoke the colab magic.  When invoking this command from the command line there is no need for either prefix.\n",
        "\n",
        "View an example [here](https://tensorboard.dev/experiment/EDZb7XgKSBKo6Gznh3i8hg/#scalars).\n",
        "\n",
        "For more details on how to use TensorBoard.dev, see https://tensorboard.dev/#get-started"
      ],
      "metadata": {
        "id": "lAgEh_Ow4EX6"
      }
    }
  ],
  "metadata": {
    "colab": {
      "collapsed_sections": [],
      "name": "get_started.ipynb",
      "toc_visible": true
    },
    "kernelspec": {
      "name": "python38-azureml",
      "language": "python",
      "display_name": "Python 3.8 - AzureML"
    },
    "language_info": {
      "name": "python",
      "version": "3.8.5",
      "mimetype": "text/x-python",
      "codemirror_mode": {
        "name": "ipython",
        "version": 3
      },
      "pygments_lexer": "ipython3",
      "nbconvert_exporter": "python",
      "file_extension": ".py"
    },
    "kernel_info": {
      "name": "python38-azureml"
    },
    "microsoft": {
      "host": {
        "AzureML": {
          "notebookHasBeenCompleted": true
        }
      }
    },
    "nteract": {
      "version": "nteract-front-end@1.0.0"
    }
  },
  "nbformat": 4,
  "nbformat_minor": 0
}