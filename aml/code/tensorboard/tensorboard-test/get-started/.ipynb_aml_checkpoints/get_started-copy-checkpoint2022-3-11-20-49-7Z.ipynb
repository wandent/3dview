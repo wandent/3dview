{
  "cells": [
    {
      "cell_type": "markdown",
      "source": [
        "##### Copyright 2019 The TensorFlow Authors."
      ],
      "metadata": {
        "id": "SB93Ge748VQs"
      }
    },
    {
      "cell_type": "code",
      "source": [
        "#@title Licensed under the Apache License, Version 2.0 (the \"License\");\n",
        "# you may not use this file except in compliance with the License.\n",
        "# You may obtain a copy of the License at\n",
        "#\n",
        "# https://www.apache.org/licenses/LICENSE-2.0\n",
        "#\n",
        "# Unless required by applicable law or agreed to in writing, software\n",
        "# distributed under the License is distributed on an \"AS IS\" BASIS,\n",
        "# WITHOUT WARRANTIES OR CONDITIONS OF ANY KIND, either express or implied.\n",
        "# See the License for the specific language governing permissions and\n",
        "# limitations under the License."
      ],
      "outputs": [],
      "execution_count": null,
      "metadata": {
        "cellView": "form",
        "id": "0sK8X2O9bTlz"
      }
    },
    {
      "cell_type": "markdown",
      "source": [
        "!printenv"
      ],
      "metadata": {
        "nteract": {
          "transient": {
            "deleting": false
          }
        }
      }
    },
    {
      "cell_type": "code",
      "source": [
        "!pip install -U azureml-core\r\n",
        "!pip install -U azureml-telemetry\r\n",
        "!pip install -U azureml-tensorboard\r\n",
        "!pip install -U tensorboard-plugin-\r\n",
        "!pip install -U azureml-train"
      ],
      "outputs": [
        {
          "output_type": "stream",
          "name": "stdout",
          "text": "/bin/bash: pip: command not found\n/bin/bash: pip: command not found\n/bin/bash: pip: command not found\n/bin/bash: pip: command not found\n/bin/bash: pip: command not found\n"
        }
      ],
      "execution_count": 1,
      "metadata": {
        "jupyter": {
          "source_hidden": false,
          "outputs_hidden": false
        },
        "nteract": {
          "transient": {
            "deleting": false
          }
        },
        "gather": {
          "logged": 1649354405138
        }
      }
    },
    {
      "cell_type": "markdown",
      "source": [
        "# Get started with TensorBoard\n",
        "\n",
        "<table class=\"tfo-notebook-buttons\" align=\"left\">\n",
        "  <td>\n",
        "    <a target=\"_blank\" href=\"https://www.tensorflow.org/tensorboard/get_started\"><img src=\"https://www.tensorflow.org/images/tf_logo_32px.png\" />View on TensorFlow.org</a>\n",
        "  </td>\n",
        "  <td>\n",
        "    <a target=\"_blank\" href=\"https://colab.research.google.com/github/tensorflow/tensorboard/blob/master/docs/get_started.ipynb\"><img src=\"https://www.tensorflow.org/images/colab_logo_32px.png\" />Run in Google Colab</a>\n",
        "  </td>\n",
        "  <td>\n",
        "    <a target=\"_blank\" href=\"https://github.com/tensorflow/tensorboard/blob/master/docs/get_started.ipynb\"><img src=\"https://www.tensorflow.org/images/GitHub-Mark-32px.png\" />View source on GitHub</a>\n",
        "  </td>\n",
        "  <td>\n",
        "    <a href=\"https://storage.googleapis.com/tensorflow_docs/tensorboard/docs/get_started.ipynb\"><img src=\"https://www.tensorflow.org/images/download_logo_32px.png\" />Download notebook</a>\n",
        "  </td>\n",
        "</table>"
      ],
      "metadata": {
        "id": "HEYuO5NFwDK9"
      }
    },
    {
      "cell_type": "markdown",
      "source": [
        "In machine learning, to improve something you often need to be able to measure it. TensorBoard is a tool for providing the measurements and visualizations needed during the machine learning workflow. It enables tracking experiment metrics like loss and accuracy, visualizing the model graph, projecting embeddings to a lower dimensional space, and much more.\n",
        "\n",
        "This quickstart will show how to quickly get started with TensorBoard. The remaining guides in this website provide more details on specific capabilities, many of which are not included here. "
      ],
      "metadata": {
        "id": "56V5oun18ZdZ"
      }
    },
    {
      "cell_type": "code",
      "source": [
        "# Load the TensorBoard notebook extension\n",
        "#%load_ext tensorboard\n",
        "!pip install azureml-tensorboard"
      ],
      "outputs": [
        {
          "output_type": "stream",
          "name": "stdout",
          "text": "/bin/bash: pip: command not found\r\n"
        }
      ],
      "execution_count": 15,
      "metadata": {
        "id": "6B95Hb6YVgPZ",
        "gather": {
          "logged": 1649354309843
        }
      }
    },
    {
      "cell_type": "code",
      "source": [
        "from azureml.core import Experiment, Workspace, Run\n",
        "import tensorflow as tf\n",
        "import datetime\n",
        "ws = Workspace.from_config()\n",
        "print('Workspace name: ' + ws.name, \n",
        "      'Azure region: ' + ws.location, \n",
        "      'Subscription id: ' + ws.subscription_id, \n",
        "      'Resource group: ' + ws.resource_group, sep='\\n')\n",
        "\n",
        "experiment = Experiment(workspace=ws, name='tensorflow_aml')\n",
        "# start logging for the run\n",
        "run = experiment.start_logging()\n",
        "\n",
        "# access the run id for use later\n",
        "run_id = run.id\n"
      ],
      "outputs": [
        {
          "output_type": "stream",
          "name": "stdout",
          "text": "Workspace name: mlw-dev-geog-01\nAzure region: eastus\nSubscription id: 062bbb35-45d7-40c6-937f-a43ab3667b0f\nResource group: rg-dev-geog-eastus\n"
        }
      ],
      "execution_count": 1,
      "metadata": {
        "id": "_wqSAZExy6xV",
        "gather": {
          "logged": 1649708802446
        }
      }
    },
    {
      "cell_type": "code",
      "source": [
        "# Clear any logs from previous runs\n",
        "!rm -rf ./logs/ "
      ],
      "outputs": [],
      "execution_count": 2,
      "metadata": {
        "id": "Ao7fJW1Pyiza",
        "gather": {
          "logged": 1649708817392
        }
      }
    },
    {
      "cell_type": "markdown",
      "source": [
        "Using the [MNIST](https://en.wikipedia.org/wiki/MNIST_database) dataset as the example, normalize the data and write a function that creates a simple Keras model for classifying the images into 10 classes."
      ],
      "metadata": {
        "id": "z5pr9vuHVgXY"
      }
    },
    {
      "cell_type": "code",
      "source": [
        "mnist = tf.keras.datasets.mnist\n",
        "\n",
        "(x_train, y_train),(x_test, y_test) = mnist.load_data()\n",
        "x_train, x_test = x_train / 255.0, x_test / 255.0\n",
        "\n",
        "def create_model():\n",
        "  return tf.keras.models.Sequential([\n",
        "    tf.keras.layers.Flatten(input_shape=(28, 28)),\n",
        "    tf.keras.layers.Dense(512, activation='relu'),\n",
        "    tf.keras.layers.Dropout(0.2),\n",
        "    tf.keras.layers.Dense(10, activation='softmax')\n",
        "  ])"
      ],
      "outputs": [],
      "execution_count": 3,
      "metadata": {
        "id": "j-DHsby18cot",
        "gather": {
          "logged": 1649708823256
        }
      }
    },
    {
      "cell_type": "markdown",
      "source": [
        "## Using TensorBoard with Keras Model.fit()"
      ],
      "metadata": {
        "id": "XKUjdIoV87um"
      }
    },
    {
      "cell_type": "markdown",
      "source": [
        "When training with Keras's [Model.fit()](https://www.tensorflow.org/api_docs/python/tf/keras/models/Model#fit), adding the `tf.keras.callbacks.TensorBoard` callback ensures that logs are created and stored. Additionally, enable histogram computation every epoch with `histogram_freq=1` (this is off by default)\n",
        "\n",
        "Place the logs in a timestamped subdirectory to allow easy selection of different training runs."
      ],
      "metadata": {
        "id": "8CL_lxdn8-Sv"
      }
    },
    {
      "cell_type": "code",
      "source": [
        "model = create_model()\n",
        "model.compile(optimizer='adam',\n",
        "              loss='sparse_categorical_crossentropy',\n",
        "              metrics=['accuracy'])\n",
        "\n",
        "log_dir = \"logs/fit/\" + datetime.datetime.now().strftime(\"%Y%m%d-%H%M%S\")\n",
        "# use the callbacks to endsure that the logs are created and stored\n",
        "tensorboard_callback = tf.keras.callbacks.TensorBoard(log_dir=log_dir, histogram_freq=1)\n",
        "\n",
        "model.fit(x=x_train, \n",
        "          y=y_train, \n",
        "          epochs=5, \n",
        "          validation_data=(x_test, y_test), \n",
        "          callbacks=[tensorboard_callback])"
      ],
      "outputs": [
        {
          "output_type": "stream",
          "name": "stdout",
          "text": "Epoch 1/5\n   2/1875 [..............................] - ETA: 20:20 - loss: 2.2737 - accuracy: 0.1406WARNING:tensorflow:Method (on_train_batch_end) is slow compared to the batch update (0.650649). Check your callbacks.\n1875/1875 [==============================] - 6s 3ms/step - loss: 0.2170 - accuracy: 0.9363 - val_loss: 0.1135 - val_accuracy: 0.9657\b\b\b\b\b\b\b\b\b\b\b\b\b\b\b\b\b\b\b\b\b\b\b\b\b\b\b\b\b\b\b\b\b\b\b\b\b\b\b\b\b\b\b\b\b\nEpoch 2/5\n1875/1875 [==============================] - 4s 2ms/step - loss: 0.0962 - accuracy: 0.9703 - val_loss: 0.0783 - val_accuracy: 0.9754\b\b\b\b\b\b\b\b\b\b\b\b\b\b\b\b\b\b\b\b\b\b\b\b\b\b\b\b\b\b\b\b\b\b\b\b\b\b\b\b\nEpoch 3/5\n1875/1875 [==============================] - 4s 2ms/step - loss: 0.0685 - accuracy: 0.9788 - val_loss: 0.0782 - val_accuracy: 0.9767\b\b\b\b\b\b\b\b\b\b\b\b\b\b\b\b\b\b\b\b\b\b\b\b\b\b\b\b\b\b\b\b\b\b\b\b\b\b\b\b\nEpoch 4/5\n1875/1875 [==============================] - 4s 2ms/step - loss: 0.0527 - accuracy: 0.9832 - val_loss: 0.0722 - val_accuracy: 0.9773\b\b\b\b\b\b\b\b\b\b\b\b\b\b\b\b\b\b\b\b\b\b\b\b\b\b\b\b\b\b\b\b\b\b\b\b\b\b\b\b\nEpoch 5/5\n1875/1875 [==============================] - 4s 2ms/step - loss: 0.0439 - accuracy: 0.9855 - val_loss: 0.0672 - val_accuracy: 0.9798\b\b\b\b\b\b\b\b\b\b\b\b\b\b\b\b\b\b\b\b\b\b\b\b\b\b\b\b\b\b\b\b\b\b\b\b\b\b\b\b\n"
        },
        {
          "output_type": "execute_result",
          "execution_count": 4,
          "data": {
            "text/plain": "<tensorflow.python.keras.callbacks.History at 0x7f7cd5ae1ca0>"
          },
          "metadata": {}
        }
      ],
      "execution_count": 4,
      "metadata": {
        "id": "WAQThq539CEJ",
        "gather": {
          "logged": 1649708855557
        }
      }
    },
    {
      "cell_type": "markdown",
      "source": [
        "Start TensorBoard through the command line or within a notebook experience. The two interfaces are generally the same. In notebooks, use the `%tensorboard` line magic. On the command line, run the same command without \"%\"."
      ],
      "metadata": {
        "id": "asjGpmD09dRl"
      }
    },
    {
      "cell_type": "code",
      "source": [],
      "outputs": [
        {
          "output_type": "stream",
          "name": "stdout",
          "text": "/bin/bash: tensorboard: command not found\r\n"
        }
      ],
      "execution_count": 14,
      "metadata": {
        "id": "A4UKgTLb9fKI",
        "gather": {
          "logged": 1649359302656
        }
      }
    },
    {
      "cell_type": "markdown",
      "source": [
        "<!-- <img class=\"tfo-display-only-on-site\" src=\"https://github.com/tensorflow/tensorboard/blob/master/docs/images/quickstart_model_fit.png?raw=1\"/> -->"
      ],
      "metadata": {
        "id": "MCsoUNb6YhGc"
      }
    },
    {
      "cell_type": "markdown",
      "source": [
        "A brief overview of the dashboards shown (tabs in top navigation bar):\n",
        "\n",
        "* The **Scalars** dashboard shows how the loss and metrics change with every epoch. You can use it to also track training speed, learning rate, and other scalar values.\n",
        "* The **Graphs** dashboard helps you visualize your model. In this case, the Keras graph of layers is shown which can help you ensure it is built correctly. \n",
        "* The **Distributions** and **Histograms** dashboards show the distribution of a Tensor over time. This can be useful to visualize weights and biases and verify that they are changing in an expected way.\n",
        "\n",
        "Additional TensorBoard plugins are automatically enabled when you log other types of data. For example, the Keras TensorBoard callback lets you log images and embeddings as well. You can see what other plugins are available in TensorBoard by clicking on the \"inactive\" dropdown towards the top right."
      ],
      "metadata": {
        "id": "Gi4PaRm39of2"
      }
    },
    {
      "cell_type": "markdown",
      "source": [
        "## Using TensorBoard with other methods\n"
      ],
      "metadata": {
        "id": "nB718NOH95yG"
      }
    },
    {
      "cell_type": "markdown",
      "source": [
        "When training with methods such as [`tf.GradientTape()`](https://www.tensorflow.org/api_docs/python/tf/GradientTape), use `tf.summary` to log the required information.\n",
        "\n",
        "Use the same dataset as above, but convert it to `tf.data.Dataset` to take advantage of batching capabilities:"
      ],
      "metadata": {
        "id": "IKNt0nWs-Ekt"
      }
    },
    {
      "cell_type": "code",
      "source": [
        "train_dataset = tf.data.Dataset.from_tensor_slices((x_train, y_train))\n",
        "test_dataset = tf.data.Dataset.from_tensor_slices((x_test, y_test))\n",
        "\n",
        "train_dataset = train_dataset.shuffle(60000).batch(64)\n",
        "test_dataset = test_dataset.batch(64)"
      ],
      "outputs": [],
      "execution_count": 5,
      "metadata": {
        "id": "nnHx4DsMezy1",
        "gather": {
          "logged": 1649708868358
        }
      }
    },
    {
      "cell_type": "markdown",
      "source": [
        "The training code follows the [advanced quickstart](https://www.tensorflow.org/tutorials/quickstart/advanced) tutorial, but shows how to log metrics to TensorBoard. Choose loss and optimizer:"
      ],
      "metadata": {
        "id": "SzpmTmJafJ10"
      }
    },
    {
      "cell_type": "code",
      "source": [
        "loss_object = tf.keras.losses.SparseCategoricalCrossentropy()\n",
        "optimizer = tf.keras.optimizers.Adam()"
      ],
      "outputs": [],
      "execution_count": 6,
      "metadata": {
        "id": "H2Y5-aPbAANs",
        "gather": {
          "logged": 1649708872342
        }
      }
    },
    {
      "cell_type": "markdown",
      "source": [
        "Create stateful metrics that can be used to accumulate values during training and logged at any point:"
      ],
      "metadata": {
        "id": "cKhIIDj9Hbfy"
      }
    },
    {
      "cell_type": "code",
      "source": [
        "# Define our metrics\n",
        "train_loss = tf.keras.metrics.Mean('train_loss', dtype=tf.float32)\n",
        "train_accuracy = tf.keras.metrics.SparseCategoricalAccuracy('train_accuracy')\n",
        "test_loss = tf.keras.metrics.Mean('test_loss', dtype=tf.float32)\n",
        "test_accuracy = tf.keras.metrics.SparseCategoricalAccuracy('test_accuracy')\n",
        "\n"
      ],
      "outputs": [],
      "execution_count": 7,
      "metadata": {
        "id": "jD0tEWrgH0TL",
        "gather": {
          "logged": 1649708875746
        }
      }
    },
    {
      "cell_type": "markdown",
      "source": [
        "Define the training and test functions:"
      ],
      "metadata": {
        "id": "szw_KrgOg-OT"
      }
    },
    {
      "cell_type": "code",
      "source": [
        "def train_step(model, optimizer, x_train, y_train):\n",
        "  with tf.GradientTape() as tape:\n",
        "    predictions = model(x_train, training=True)\n",
        "    loss = loss_object(y_train, predictions)\n",
        "  grads = tape.gradient(loss, model.trainable_variables)\n",
        "  optimizer.apply_gradients(zip(grads, model.trainable_variables))\n",
        "\n",
        "  train_loss(loss)\n",
        "  train_accuracy(y_train, predictions)\n",
        "\n",
        "def test_step(model, x_test, y_test):\n",
        "  predictions = model(x_test)\n",
        "  loss = loss_object(y_test, predictions)\n",
        "\n",
        "  test_loss(loss)\n",
        "  test_accuracy(y_test, predictions)"
      ],
      "outputs": [],
      "execution_count": 8,
      "metadata": {
        "id": "TTWcJO35IJgK",
        "gather": {
          "logged": 1649708880122
        }
      }
    },
    {
      "cell_type": "markdown",
      "source": [
        "Set up summary writers to write the summaries to disk in a different logs directory:"
      ],
      "metadata": {
        "id": "nucPZBKPJR3A"
      }
    },
    {
      "cell_type": "code",
      "source": [
        "current_time = datetime.datetime.now().strftime(\"%Y%m%d-%H%M%S\")\n",
        "train_log_dir = 'logs/gradient_tape/' + current_time + '/train'\n",
        "test_log_dir = 'logs/gradient_tape/' + current_time + '/test'\n",
        "train_summary_writer = tf.summary.create_file_writer(train_log_dir)\n",
        "test_summary_writer = tf.summary.create_file_writer(test_log_dir)\n",
        "\n",
        "run.log(\"current_time\", current_time)\n",
        "run.log(\"train_log_dir\", train_log_dir)\n",
        "run.log(\"test_log_dir\", test_log_dir)\n",
        "run.log(\"train_summary_writer\", train_summary_writer)\n",
        "run.log(\"test_summary_writer\", test_summary_writer)\n",
        "\n"
      ],
      "outputs": [],
      "execution_count": 9,
      "metadata": {
        "id": "3Qp-exmbWf4w",
        "gather": {
          "logged": 1649708885256
        }
      }
    },
    {
      "cell_type": "markdown",
      "source": [
        "Start training. Use `tf.summary.scalar()` to log metrics (loss and accuracy) during training/testing within the scope of the summary writers to write the summaries to disk. You have control over which metrics to log and how often to do it. Other `tf.summary` functions enable logging other types of data."
      ],
      "metadata": {
        "id": "qgUJgDdKWUKF"
      }
    },
    {
      "cell_type": "code",
      "source": [
        "model = create_model() # reset our model\n",
        "\n",
        "EPOCHS = 5\n",
        "\n",
        "for epoch in range(EPOCHS):\n",
        "  for (x_train, y_train) in train_dataset:\n",
        "    train_step(model, optimizer, x_train, y_train)\n",
        "  with train_summary_writer.as_default():\n",
        "    tf.summary.scalar('loss', train_loss.result(), step=epoch)\n",
        "    tf.summary.scalar('accuracy', train_accuracy.result(), step=epoch)\n",
        "\n",
        "  for (x_test, y_test) in test_dataset:\n",
        "    test_step(model, x_test, y_test)\n",
        "  with test_summary_writer.as_default():\n",
        "    tf.summary.scalar('loss', test_loss.result(), step=epoch)\n",
        "    tf.summary.scalar('accuracy', test_accuracy.result(), step=epoch)\n",
        "  \n",
        "  template = 'Epoch {}, Loss: {}, Accuracy: {}, Test Loss: {}, Test Accuracy: {}'\n",
        "  print (template.format(epoch+1,\n",
        "                         train_loss.result(), \n",
        "                         train_accuracy.result()*100,\n",
        "                         test_loss.result(), \n",
        "                         test_accuracy.result()*100))\n",
        "  run.log(\"epoch\", epoch+1)\n",
        "  run.log(\"loss\", train_loss.result())\n",
        "  run.log(\"accuracy%\", train_accuracy.result()*100)\n",
        "  run.log(\"test loss\", test_loss.result())\n",
        "  run.log(\"test_accuracy\", test_accuracy.result())\n",
        "\n",
        "\n",
        "\n",
        "  # Reset metrics every epoch\n",
        "  train_loss.reset_states()\n",
        "  test_loss.reset_states()\n",
        "  train_accuracy.reset_states()\n",
        "  test_accuracy.reset_states()"
      ],
      "outputs": [
        {
          "output_type": "stream",
          "name": "stdout",
          "text": "Epoch 1, Loss: 0.2403009533882141, Accuracy: 93.04166412353516, Test Loss: 0.11897052824497223, Test Accuracy: 96.5\nEpoch 2, Loss: 0.10426203906536102, Accuracy: 96.8550033569336, Test Loss: 0.0883815586566925, Test Accuracy: 97.37999725341797\nEpoch 3, Loss: 0.07215358316898346, Accuracy: 97.77833557128906, Test Loss: 0.07186562567949295, Test Accuracy: 97.65999603271484\nEpoch 4, Loss: 0.05428000167012215, Accuracy: 98.30667114257812, Test Loss: 0.0707816556096077, Test Accuracy: 97.6199951171875\nEpoch 5, Loss: 0.04376479610800743, Accuracy: 98.5816650390625, Test Loss: 0.05892794206738472, Test Accuracy: 98.05999755859375\n"
        }
      ],
      "execution_count": 10,
      "metadata": {
        "id": "odWvHPpKJvb_",
        "gather": {
          "logged": 1649708997454
        }
      }
    },
    {
      "cell_type": "markdown",
      "source": [
        "Open TensorBoard again, this time pointing it at the new log directory. We could have also started TensorBoard to monitor training while it progresses."
      ],
      "metadata": {
        "id": "JikosQ84fzcA"
      }
    },
    {
      "cell_type": "code",
      "source": [
        "run.complete()"
      ],
      "outputs": [],
      "execution_count": 11,
      "metadata": {
        "jupyter": {
          "source_hidden": false,
          "outputs_hidden": false
        },
        "nteract": {
          "transient": {
            "deleting": false
          }
        },
        "gather": {
          "logged": 1649709014016
        }
      }
    },
    {
      "cell_type": "markdown",
      "source": [
        "<!-- <img class=\"tfo-display-only-on-site\" src=\"https://github.com/tensorflow/tensorboard/blob/master/docs/images/quickstart_gradient_tape.png?raw=1\"/> -->"
      ],
      "metadata": {
        "id": "NVpnilhEgQXk"
      }
    },
    {
      "cell_type": "markdown",
      "source": [
        "That's it! You have now seen how to use TensorBoard both through the Keras callback and through `tf.summary` for more custom scenarios. "
      ],
      "metadata": {
        "id": "ozbwXgPIkCKV"
      }
    },
    {
      "cell_type": "markdown",
      "source": [
        "## TensorBoard.dev: Host and share your ML experiment results\n",
        "\n",
        "[TensorBoard.dev](https://tensorboard.dev) is a free public service that enables you to upload your TensorBoard logs and get a permalink that can be shared with everyone in academic papers, blog posts, social media, etc.  This can enable better reproducibility and collaboration.\n",
        "\n",
        "To use TensorBoard.dev, run the following command:\n"
      ],
      "metadata": {
        "id": "vsowjhkBdkbK"
      }
    },
    {
      "cell_type": "markdown",
      "source": [
        "!tensorboard dev upload \\\n",
        "  --logdir logs/fit \\\n",
        "  --name \"(optional) My latest experiment\" \\\n",
        "  --description \"(optional) Simple comparison of several hyperparameters\" \\\n",
        "  --one_shot"
      ],
      "metadata": {
        "nteract": {
          "transient": {
            "deleting": false
          }
        }
      }
    },
    {
      "cell_type": "markdown",
      "source": [
        "Note that this invocation uses the exclamation prefix (`!`) to invoke the shell\n",
        "rather than the percent prefix (`%`) to invoke the colab magic.  When invoking this command from the command line there is no need for either prefix.\n",
        "\n",
        "View an example [here](https://tensorboard.dev/experiment/EDZb7XgKSBKo6Gznh3i8hg/#scalars).\n",
        "\n",
        "For more details on how to use TensorBoard.dev, see https://tensorboard.dev/#get-started"
      ],
      "metadata": {
        "id": "lAgEh_Ow4EX6"
      }
    }
  ],
  "metadata": {
    "colab": {
      "collapsed_sections": [],
      "name": "get_started.ipynb",
      "toc_visible": true
    },
    "kernelspec": {
      "name": "python38-azureml",
      "language": "python",
      "display_name": "Python 3.8 - AzureML"
    },
    "language_info": {
      "name": "python",
      "version": "3.8.5",
      "mimetype": "text/x-python",
      "codemirror_mode": {
        "name": "ipython",
        "version": 3
      },
      "pygments_lexer": "ipython3",
      "nbconvert_exporter": "python",
      "file_extension": ".py"
    },
    "kernel_info": {
      "name": "python38-azureml"
    },
    "microsoft": {
      "host": {
        "AzureML": {
          "notebookHasBeenCompleted": true
        }
      }
    },
    "nteract": {
      "version": "nteract-front-end@1.0.0"
    }
  },
  "nbformat": 4,
  "nbformat_minor": 0
}