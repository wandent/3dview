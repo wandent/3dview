{
  "cells": [
    {
      "cell_type": "code",
      "source": [
        "!az ml job create -f job.yml --web"
      ],
      "outputs": [
        {
          "output_type": "stream",
          "name": "stdout",
          "text": "\u001b[36mCommand group 'ml job' is in preview and under development. Reference and support levels: https://aka.ms/CLI_refstatus\u001b[0m\n{\n  \"code\": \"/subscriptions/062bbb35-45d7-40c6-937f-a43ab3667b0f/resourceGroups/rg-dev-geog-eastus/providers/Microsoft.MachineLearningServices/workspaces/mlw-dev-geog-01/codes/1fab19e5-e2d5-4efb-a018-41e2e7161444/versions/1\",\n  \"command\": \"pip install -U mlflow && mlflow run .\",\n  \"compute\": \"azureml:cpu-cluster\",\n  \"creation_context\": {\n    \"created_at\": \"2022-04-14T13:50:54.367805+00:00\",\n    \"created_by\": \"Wandenkolk Tinoco Neto\",\n    \"created_by_type\": \"User\"\n  },\n  \"display_name\": \"lucid_sheep_4y01k3c4zg\",\n  \"environment\": \"azureml:CliV2AnonymousEnvironment:0f7f206c-404e-429d-b4d9-a5071e543596\",\n  \"environment_variables\": {},\n  \"experiment_name\": \"mlflow-example\",\n  \"id\": \"azureml:/subscriptions/062bbb35-45d7-40c6-937f-a43ab3667b0f/resourceGroups/rg-dev-geog-eastus/providers/Microsoft.MachineLearningServices/workspaces/mlw-dev-geog-01/jobs/lucid_sheep_4y01k3c4zg\",\n  \"inputs\": {},\n  \"name\": \"lucid_sheep_4y01k3c4zg\",\n  \"outputs\": {\n    \"default\": {\n      \"mode\": \"rw_mount\",\n      \"path\": \"azureml://datastores/workspaceartifactstore/ExperimentRun/dcid.lucid_sheep_4y01k3c4zg\",\n      \"type\": \"uri_folder\"\n    }\n  },\n  \"parameters\": {},\n  \"properties\": {\n    \"ContentSnapshotId\": \"3a204c34-2c45-44af-8d2e-ff346518d80b\",\n    \"_azureml.ComputeTargetType\": \"amlctrain\",\n    \"azureml.git.dirty\": \"True\",\n    \"mlflow.source.git.branch\": \"main\",\n    \"mlflow.source.git.commit\": \"1c8c637fe2ab2f091c4eeeff2484edc2fc9d7e05\",\n    \"mlflow.source.git.repoURL\": \"https://github.com/wandent/3dview.git\"\n  },\n  \"resourceGroup\": \"rg-dev-geog-eastus\",\n  \"resources\": {\n    \"instance_count\": 1,\n    \"properties\": {}\n  },\n  \"services\": {\n    \"Studio\": {\n      \"endpoint\": \"https://ml.azure.com/runs/lucid_sheep_4y01k3c4zg?wsid=/subscriptions/062bbb35-45d7-40c6-937f-a43ab3667b0f/resourcegroups/rg-dev-geog-eastus/workspaces/mlw-dev-geog-01&tid=5b6f6241-9a57-4be4-8e50-1dfa72e79a57\",\n      \"job_service_type\": \"Studio\"\n    },\n    \"Tracking\": {\n      \"endpoint\": \"azureml://eastus.api.azureml.ms/mlflow/v1.0/subscriptions/062bbb35-45d7-40c6-937f-a43ab3667b0f/resourceGroups/rg-dev-geog-eastus/providers/Microsoft.MachineLearningServices/workspaces/mlw-dev-geog-01?\",\n      \"job_service_type\": \"Tracking\"\n    }\n  },\n  \"status\": \"Starting\",\n  \"tags\": {},\n  \"type\": \"command\"\n}\n\u001b[0m"
        }
      ],
      "execution_count": 2,
      "metadata": {}
    },
    {
      "cell_type": "code",
      "source": [],
      "outputs": [],
      "execution_count": null,
      "metadata": {
        "jupyter": {
          "source_hidden": false,
          "outputs_hidden": false
        },
        "nteract": {
          "transient": {
            "deleting": false
          }
        }
      }
    }
  ],
  "metadata": {
    "kernelspec": {
      "name": "python38-azureml",
      "language": "python",
      "display_name": "Python 3.8 - AzureML"
    },
    "language_info": {
      "name": "python",
      "version": "3.8.5",
      "mimetype": "text/x-python",
      "codemirror_mode": {
        "name": "ipython",
        "version": 3
      },
      "pygments_lexer": "ipython3",
      "nbconvert_exporter": "python",
      "file_extension": ".py"
    },
    "kernel_info": {
      "name": "python38-azureml"
    },
    "nteract": {
      "version": "nteract-front-end@1.0.0"
    }
  },
  "nbformat": 4,
  "nbformat_minor": 2
}