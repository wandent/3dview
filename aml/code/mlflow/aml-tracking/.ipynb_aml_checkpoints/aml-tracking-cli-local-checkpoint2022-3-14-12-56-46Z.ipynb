{
  "cells": [
    {
      "cell_type": "code",
      "source": [
        "# ìnstall pre-requisites and export environment variable with the URI for ML flow tracking\r\n",
        "#!az extension add --name ml\r\n",
        "!export MLFLOW_TRACKING_URI=$(az ml workspace show --query mlflow_tracking_uri | sed 's/\"//g') "
      ],
      "outputs": [
        {
          "output_type": "stream",
          "name": "stdout",
          "text": "WARNING: Command group 'ml workspace' is in preview and under development. Reference and support levels: https://aka.ms/CLI_refstatus\r\n"
        }
      ],
      "execution_count": 1,
      "metadata": {
        "gather": {
          "logged": 1649854325478
        }
      }
    },
    {
      "cell_type": "code",
      "source": [
        "!printenv MLFLOW_TRACKING_URI"
      ],
      "outputs": [
        {
          "output_type": "stream",
          "name": "stdout",
          "text": "azureml://eastus.api.azureml.ms/mlflow/v1.0/subscriptions/062bbb35-45d7-40c6-937f-a43ab3667b0f/resourceGroups/rg-dev-geog-eastus/providers/Microsoft.MachineLearningServices/workspaces/mlw-dev-geog-01\r\n"
        }
      ],
      "execution_count": 2,
      "metadata": {
        "jupyter": {
          "source_hidden": false,
          "outputs_hidden": false
        },
        "nteract": {
          "transient": {
            "deleting": false
          }
        }
      }
    },
    {
      "cell_type": "code",
      "source": [
        "# Configure MLflow to communicate with a Azure Machine Learning-hosted tracking server\r\n",
        "!export MLFLOW_EXPERIMENT_NAME=\"experiment_with_mlflow\"\r\n"
      ],
      "outputs": [],
      "execution_count": 3,
      "metadata": {
        "jupyter": {
          "source_hidden": false,
          "outputs_hidden": false
        },
        "nteract": {
          "transient": {
            "deleting": false
          }
        },
        "gather": {
          "logged": 1649854331575
        }
      }
    },
    {
      "cell_type": "code",
      "source": [
        "!sudo apt-get install python-pip -y\r\n"
      ],
      "outputs": [
        {
          "output_type": "stream",
          "name": "stdout",
          "text": "Reading package lists... Done\nBuilding dependency tree       \nReading state information... Done\nThe following packages were automatically installed and are no longer required:\n  ca-certificates-java cmake-data cuda-command-line-tools-11-2\n  cuda-compiler-11-2 cuda-cudart-11-2 cuda-cudart-dev-11-2 cuda-cuobjdump-11-2\n  cuda-cupti-11-2 cuda-cupti-dev-11-2 cuda-cuxxfilt-11-2\n  cuda-documentation-11-2 cuda-driver-dev-11-2 cuda-gdb-11-2\n  cuda-libraries-11-2 cuda-libraries-dev-11-2 cuda-memcheck-11-2\n  cuda-nsight-11-2 cuda-nsight-compute-11-2 cuda-nsight-systems-11-2\n  cuda-nvcc-11-2 cuda-nvdisasm-11-2 cuda-nvml-dev-11-2 cuda-nvprof-11-2\n  cuda-nvprune-11-2 cuda-nvrtc-11-2 cuda-nvrtc-dev-11-2 cuda-nvtx-11-2\n  cuda-nvvp-11-2 cuda-samples-11-2 cuda-sanitizer-11-2 cuda-toolkit-11-2\n  cuda-tools-11-2 cuda-visual-tools-11-2 default-jre default-jre-headless\n  fonts-dejavu-extra gyp java-common javascript-common libarchive13 libasound2\n  libasound2-data libatk-wrapper-java libatk-wrapper-java-jni libc-ares2\n  libcublas-11-2 libcublas-dev-11-2 libcufft-11-2 libcufft-dev-11-2\n  libcurand-11-2 libcurand-dev-11-2 libcusolver-11-2 libcusolver-dev-11-2\n  libcusparse-11-2 libcusparse-dev-11-2 libjs-async libjs-inherits\n  libjs-jquery libjs-node-uuid libjs-underscore libjsoncpp1 libnpp-11-2\n  libnpp-dev-11-2 libnspr4 libnss3 libnvidia-common-510 libnvjpeg-11-2\n  libnvjpeg-dev-11-2 libpcsclite1 librhash0 libuv1-dev\n  linux-headers-4.15.0-171 node-abbrev node-ansi node-ansi-color-table\n  node-archy node-async node-balanced-match node-block-stream\n  node-brace-expansion node-builtin-modules node-combined-stream\n  node-concat-map node-cookie-jar node-delayed-stream node-forever-agent\n  node-form-data node-fs.realpath node-fstream node-fstream-ignore\n  node-github-url-from-git node-glob node-graceful-fs node-hosted-git-info\n  node-inflight node-inherits node-ini node-is-builtin-module node-isexe\n  node-json-stringify-safe node-lockfile node-lru-cache node-mime\n  node-minimatch node-mkdirp node-mute-stream node-node-uuid node-nopt\n  node-normalize-package-data node-npmlog node-once node-osenv\n  node-path-is-absolute node-pseudomap node-qs node-read\n  node-read-package-json node-request node-retry node-rimraf node-semver\n  node-sha node-slide node-spdx-correct node-spdx-expression-parse\n  node-spdx-license-ids node-tar node-tunnel-agent node-underscore\n  node-validate-npm-package-license node-which node-wrappy node-yallist\n  nsight-compute-2020.3.1 nsight-systems-2020.4.3 openjdk-11-jre\n  openjdk-11-jre-headless\nUse 'sudo apt autoremove' to remove them.\nThe following additional packages will be installed:\n  libpython-all-dev python-all python-all-dev python-asn1crypto\n  python-cffi-backend python-cryptography python-dbus python-enum34 python-gi\n  python-idna python-ipaddress python-keyring python-keyrings.alt\n  python-pip-whl python-secretstorage python-setuptools python-wheel\n  python-xdg\nSuggested packages:\n  python-cryptography-doc python-cryptography-vectors python-dbus-dbg\n  python-dbus-doc python-enum34-doc python-gi-cairo gnome-keyring\n  libkf5wallet-bin gir1.2-gnomekeyring-1.0 python-fs python-gdata\n  python-keyczar python-secretstorage-doc python-setuptools-doc\nThe following NEW packages will be installed:\n  libpython-all-dev python-all python-all-dev python-asn1crypto\n  python-cffi-backend python-cryptography python-dbus python-enum34 python-gi\n  python-idna python-ipaddress python-keyring python-keyrings.alt python-pip\n  python-pip-whl python-secretstorage python-setuptools python-wheel\n  python-xdg\n0 upgraded, 19 newly installed, 0 to remove and 49 not upgraded.\nNeed to get 0 B/3047 kB of archives.\nAfter this operation, 8740 kB of additional disk space will be used.\nSelecting previously unselected package libpython-all-dev:amd64.\n(Reading database ... 244319 files and directories currently installed.)\nPreparing to unpack .../00-libpython-all-dev_2.7.15~rc1-1_amd64.deb ...\nUnpacking libpython-all-dev:amd64 (2.7.15~rc1-1) ...\nSelecting previously unselected package python-all.\nPreparing to unpack .../01-python-all_2.7.15~rc1-1_amd64.deb ...\nUnpacking python-all (2.7.15~rc1-1) ...\nSelecting previously unselected package python-all-dev.\nPreparing to unpack .../02-python-all-dev_2.7.15~rc1-1_amd64.deb ...\nUnpacking python-all-dev (2.7.15~rc1-1) ...\nSelecting previously unselected package python-asn1crypto.\nPreparing to unpack .../03-python-asn1crypto_0.24.0-1_all.deb ...\nUnpacking python-asn1crypto (0.24.0-1) ...\nSelecting previously unselected package python-cffi-backend.\nPreparing to unpack .../04-python-cffi-backend_1.11.5-1_amd64.deb ...\nUnpacking python-cffi-backend (1.11.5-1) ...\nSelecting previously unselected package python-enum34.\nPreparing to unpack .../05-python-enum34_1.1.6-2_all.deb ...\nUnpacking python-enum34 (1.1.6-2) ...\nSelecting previously unselected package python-idna.\nPreparing to unpack .../06-python-idna_2.6-1_all.deb ...\nUnpacking python-idna (2.6-1) ...\nSelecting previously unselected package python-ipaddress.\nPreparing to unpack .../07-python-ipaddress_1.0.17-1_all.deb ...\nUnpacking python-ipaddress (1.0.17-1) ...\nSelecting previously unselected package python-cryptography.\nPreparing to unpack .../08-python-cryptography_2.1.4-1ubuntu1.4_amd64.deb ...\nUnpacking python-cryptography (2.1.4-1ubuntu1.4) ...\nSelecting previously unselected package python-dbus.\nPreparing to unpack .../09-python-dbus_1.2.6-1_amd64.deb ...\nUnpacking python-dbus (1.2.6-1) ...\nSelecting previously unselected package python-gi.\nPreparing to unpack .../10-python-gi_3.26.1-2ubuntu1_amd64.deb ...\nUnpacking python-gi (3.26.1-2ubuntu1) ...\nSelecting previously unselected package python-secretstorage.\nPreparing to unpack .../11-python-secretstorage_2.3.1-2_all.deb ...\nUnpacking python-secretstorage (2.3.1-2) ...\nSelecting previously unselected package python-keyring.\nPreparing to unpack .../12-python-keyring_10.6.0-1_all.deb ...\nUnpacking python-keyring (10.6.0-1) ...\nSelecting previously unselected package python-keyrings.alt.\nPreparing to unpack .../13-python-keyrings.alt_3.0-1_all.deb ...\nUnpacking python-keyrings.alt (3.0-1) ...\nSelecting previously unselected package python-pip-whl.\nPreparing to unpack .../14-python-pip-whl_9.0.1-2.3~ubuntu1.18.04.5_all.deb ...\nUnpacking python-pip-whl (9.0.1-2.3~ubuntu1.18.04.5) ...\nSelecting previously unselected package python-pip.\nPreparing to unpack .../15-python-pip_9.0.1-2.3~ubuntu1.18.04.5_all.deb ...\nUnpacking python-pip (9.0.1-2.3~ubuntu1.18.04.5) ...\nSelecting previously unselected package python-setuptools.\nPreparing to unpack .../16-python-setuptools_39.0.1-2_all.deb ...\nUnpacking python-setuptools (39.0.1-2) ...\nSelecting previously unselected package python-wheel.\nPreparing to unpack .../17-python-wheel_0.30.0-0.2_all.deb ...\nUnpacking python-wheel (0.30.0-0.2) ...\nSelecting previously unselected package python-xdg.\nPreparing to unpack .../18-python-xdg_0.25-4ubuntu1.1_all.deb ...\nUnpacking python-xdg (0.25-4ubuntu1.1) ...\nSetting up python-idna (2.6-1) ...\nSetting up python-pip-whl (9.0.1-2.3~ubuntu1.18.04.5) ...\nSetting up python-setuptools (39.0.1-2) ...\nSetting up python-asn1crypto (0.24.0-1) ...\nSetting up python-wheel (0.30.0-0.2) ...\nSetting up libpython-all-dev:amd64 (2.7.15~rc1-1) ...\nSetting up python-keyrings.alt (3.0-1) ...\nSetting up python-cffi-backend (1.11.5-1) ...\nSetting up python-gi (3.26.1-2ubuntu1) ...\nSetting up python-enum34 (1.1.6-2) ...\nSetting up python-dbus (1.2.6-1) ...\nSetting up python-ipaddress (1.0.17-1) ...\nSetting up python-pip (9.0.1-2.3~ubuntu1.18.04.5) ...\nSetting up python-all (2.7.15~rc1-1) ...\nSetting up python-xdg (0.25-4ubuntu1.1) ...\nSetting up python-all-dev (2.7.15~rc1-1) ...\nSetting up python-cryptography (2.1.4-1ubuntu1.4) ...\nSetting up python-secretstorage (2.3.1-2) ...\nSetting up python-keyring (10.6.0-1) ...\nProcessing triggers for man-db (2.8.3-2ubuntu0.1) ...\n"
        }
      ],
      "execution_count": 4,
      "metadata": {
        "jupyter": {
          "source_hidden": false,
          "outputs_hidden": false
        },
        "nteract": {
          "transient": {
            "deleting": false
          }
        }
      }
    },
    {
      "cell_type": "code",
      "source": [
        "!pip install -U mlflow"
      ],
      "outputs": [
        {
          "output_type": "stream",
          "name": "stdout",
          "text": "Collecting mlflow\n\u001b[33m  Cache entry deserialization failed, entry ignored\u001b[0m\n  Downloading https://files.pythonhosted.org/packages/d8/31/2e7b4a777e59c96e55afadd5b6beb61178b50328d26304e513bceb448f61/mlflow-1.7.2-py2-none-any.whl (16.0MB)\n\u001b[K    100% |████████████████████████████████| 16.0MB 67kB/s  eta 0:00:01\n\u001b[?25hCollecting simplejson (from mlflow)\n  Downloading https://files.pythonhosted.org/packages/5c/e8/f126464f75ceb477f4daeee52bfc9d1a055bca88b31492136cd86b4608d4/simplejson-3.17.6-cp27-cp27mu-manylinux1_x86_64.whl (132kB)\n\u001b[K    100% |████████████████████████████████| 133kB 7.9MB/s eta 0:00:01\n\u001b[?25hCollecting entrypoints (from mlflow)\n\u001b[33m  Cache entry deserialization failed, entry ignored\u001b[0m\n  Downloading https://files.pythonhosted.org/packages/ac/c6/44694103f8c221443ee6b0041f69e2740d89a25641e62fb4f2ee568f2f9c/entrypoints-0.3-py2.py3-none-any.whl\nCollecting click>=7.0 (from mlflow)\n\u001b[33m  Cache entry deserialization failed, entry ignored\u001b[0m\n  Downloading https://files.pythonhosted.org/packages/d2/3d/fa76db83bf75c4f8d338c2fd15c8d33fdd7ad23a9b5e57eb6c5de26b430e/click-7.1.2-py2.py3-none-any.whl (82kB)\n\u001b[K    100% |████████████████████████████████| 92kB 9.8MB/s eta 0:00:01\n\u001b[?25hCollecting numpy (from mlflow)\n\u001b[33m  Cache entry deserialization failed, entry ignored\u001b[0m\n  Downloading https://files.pythonhosted.org/packages/3a/5f/47e578b3ae79e2624e205445ab77a1848acdaa2929a00eeef6b16eaaeb20/numpy-1.16.6-cp27-cp27mu-manylinux1_x86_64.whl (17.0MB)\n\u001b[K    100% |████████████████████████████████| 17.0MB 65kB/s  eta 0:00:01\n\u001b[?25hCollecting gitpython>=2.1.0 (from mlflow)\n\u001b[33m  Cache entry deserialization failed, entry ignored\u001b[0m\n  Downloading https://files.pythonhosted.org/packages/7a/c9/6e1aec0893efe66f407d2e14a3daba73dbb39bbeeb72142b037c4a224d40/GitPython-2.1.15-py2.py3-none-any.whl (452kB)\n\u001b[K    100% |████████████████████████████████| 460kB 2.6MB/s eta 0:00:01\n\u001b[?25hCollecting Flask (from mlflow)\n\u001b[33m  Cache entry deserialization failed, entry ignored\u001b[0m\n  Downloading https://files.pythonhosted.org/packages/e8/6d/994208daa354f68fd89a34a8bafbeaab26fda84e7af1e35bdaed02b667e6/Flask-1.1.4-py2.py3-none-any.whl (94kB)\n\u001b[K    100% |████████████████████████████████| 102kB 10.7MB/s a 0:00:01\n\u001b[?25hCollecting prometheus-flask-exporter (from mlflow)\n\u001b[33m  Cache entry deserialization failed, entry ignored\u001b[0m\n  Downloading https://files.pythonhosted.org/packages/43/20/14952537b520275baa3bb65d8f2790ba406f47681c097c9e84409148fe78/prometheus_flask_exporter-0.20.1.tar.gz\nCollecting databricks-cli>=0.8.7 (from mlflow)\n\u001b[33m  Cache entry deserialization failed, entry ignored\u001b[0m\n  Downloading https://files.pythonhosted.org/packages/72/da/40422480bddd0a30acda0ec6c8839f4cede331b6d985f4c6abb77a75a6c2/databricks_cli-0.16.6-py2-none-any.whl (117kB)\n\u001b[K    100% |████████████████████████████████| 122kB 9.3MB/s eta 0:00:01\n\u001b[?25hCollecting six>=1.10.0 (from mlflow)\n\u001b[33m  Cache entry deserialization failed, entry ignored\u001b[0m\n\u001b[33m  Cache entry deserialization failed, entry ignored\u001b[0m\n  Downloading https://files.pythonhosted.org/packages/d9/5a/e7c31adbe875f2abbb91bd84cf2dc52d792b5a01506781dbcf25c91daf11/six-1.16.0-py2.py3-none-any.whl\nCollecting docker>=4.0.0 (from mlflow)\n\u001b[33m  Cache entry deserialization failed, entry ignored\u001b[0m\n  Downloading https://files.pythonhosted.org/packages/c4/22/410313ad554477e87ec406d38d85f810e61ddb0d2fc44e64994857476de9/docker-4.4.4-py2.py3-none-any.whl (147kB)\n\u001b[K    100% |████████████████████████████████| 153kB 7.3MB/s eta 0:00:01\n\u001b[?25hCollecting waitress (from mlflow)\n  Downloading https://files.pythonhosted.org/packages/26/d1/5209fb8c764497a592363c47054436a515b47b8c3e4970ddd7184f088857/waitress-1.4.4-py2.py3-none-any.whl (58kB)\n\u001b[K    100% |████████████████████████████████| 61kB 10.1MB/s ta 0:00:01\n\u001b[?25hCollecting gunicorn (from mlflow)\n\u001b[33m  Cache entry deserialization failed, entry ignored\u001b[0m\n  Downloading https://files.pythonhosted.org/packages/5f/54/c15f2c243c19074cbf06ce6c48732d99aec825487f87e57e86e9a22990f2/gunicorn-19.10.0-py2.py3-none-any.whl (113kB)\n\u001b[K    100% |████████████████████████████████| 122kB 9.2MB/s eta 0:00:01\n\u001b[?25hCollecting alembic<=1.4.1 (from mlflow)\n\u001b[33m  Cache entry deserialization failed, entry ignored\u001b[0m\n  Downloading https://files.pythonhosted.org/packages/e0/e9/359dbb77c35c419df0aedeb1d53e71e7e3f438ff64a8fdb048c907404de3/alembic-1.4.1.tar.gz (1.1MB)\n\u001b[K    100% |████████████████████████████████| 1.1MB 1.1MB/s eta 0:00:01\n\u001b[?25hCollecting pandas (from mlflow)\n\u001b[33m  Cache entry deserialization failed, entry ignored\u001b[0m\n  Downloading https://files.pythonhosted.org/packages/db/83/7d4008ffc2988066ff37f6a0bb6d7b60822367dcb36ba5e39aa7801fda54/pandas-0.24.2-cp27-cp27mu-manylinux1_x86_64.whl (10.1MB)\n\u001b[K    100% |████████████████████████████████| 10.1MB 111kB/s eta 0:00:01\n\u001b[?25hCollecting python-dateutil (from mlflow)\n\u001b[33m  Cache entry deserialization failed, entry ignored\u001b[0m\n\u001b[33m  Cache entry deserialization failed, entry ignored\u001b[0m\n  Downloading https://files.pythonhosted.org/packages/36/7a/87837f39d0296e723bb9b62bbb257d0355c7f6128853c78955f57342a56d/python_dateutil-2.8.2-py2.py3-none-any.whl (247kB)\n\u001b[K    100% |████████████████████████████████| 256kB 4.4MB/s eta 0:00:01\n\u001b[?25hCollecting cloudpickle (from mlflow)\n\u001b[33m  Cache entry deserialization failed, entry ignored\u001b[0m\n  Downloading https://files.pythonhosted.org/packages/ea/0b/189cd3c19faf362ff2df5f301456c6cf8571ef6684644cfdfdbff293825c/cloudpickle-1.3.0-py2.py3-none-any.whl\nCollecting sqlalchemy<=1.3.13 (from mlflow)\n\u001b[33m  Cache entry deserialization failed, entry ignored\u001b[0m\n  Downloading https://files.pythonhosted.org/packages/af/47/35edeb0f86c0b44934c05d961c893e223ef27e79e1f53b5e6f14820ff553/SQLAlchemy-1.3.13.tar.gz (6.0MB)\n\u001b[K    100% |████████████████████████████████| 6.0MB 175kB/s eta 0:00:01\n\u001b[?25hCollecting gorilla (from mlflow)\n  Downloading https://files.pythonhosted.org/packages/b3/2a/d0eab79744c9bc32b916226e8cb71e275eb1c4e73ed6d682d99f907e5d10/gorilla-0.4.0-py2.py3-none-any.whl\nCollecting protobuf>=3.6.0 (from mlflow)\n\u001b[33m  Cache entry deserialization failed, entry ignored\u001b[0m\n  Downloading https://files.pythonhosted.org/packages/74/4e/9f3cb458266ef5cdeaa1e72a90b9eda100e3d1803cbd7ec02f0846da83c3/protobuf-3.18.0-py2.py3-none-any.whl (174kB)\n\u001b[K    100% |████████████████████████████████| 184kB 6.1MB/s eta 0:00:01\n\u001b[?25hCollecting sqlparse (from mlflow)\n\u001b[33m  Cache entry deserialization failed, entry ignored\u001b[0m\n  Downloading https://files.pythonhosted.org/packages/85/ee/6e821932f413a5c4b76be9c5936e313e4fc626b33f16e027866e1d60f588/sqlparse-0.3.1-py2.py3-none-any.whl (40kB)\n\u001b[K    100% |████████████████████████████████| 40kB 9.4MB/s eta 0:00:01\n\u001b[?25hCollecting querystring-parser (from mlflow)\n\u001b[33m  Cache entry deserialization failed, entry ignored\u001b[0m\n\u001b[33m  Cache entry deserialization failed, entry ignored\u001b[0m\n  Downloading https://files.pythonhosted.org/packages/88/6b/572b2590fd55114118bf08bde63c0a421dcc82d593700f3e2ad89908a8a9/querystring_parser-1.2.4-py2.py3-none-any.whl\nCollecting requests>=2.17.3 (from mlflow)\n\u001b[33m  Cache entry deserialization failed, entry ignored\u001b[0m\n\u001b[33m  Cache entry deserialization failed, entry ignored\u001b[0m\n  Downloading https://files.pythonhosted.org/packages/2d/61/08076519c80041bc0ffa1a8af0cbd3bf3e2b62af10435d269a9d0f40564d/requests-2.27.1-py2.py3-none-any.whl (63kB)\n\u001b[K    100% |████████████████████████████████| 71kB 10.2MB/s ta 0:00:01\n\u001b[?25hCollecting pyyaml (from mlflow)\n\u001b[33m  Cache entry deserialization failed, entry ignored\u001b[0m\n  Downloading https://files.pythonhosted.org/packages/ba/d4/3cf562876e0cda0405e65d351b835077ab13990e5b92912ef2bf1a2280e0/PyYAML-5.4.1-cp27-cp27mu-manylinux1_x86_64.whl (574kB)\n\u001b[K    100% |████████████████████████████████| 583kB 2.0MB/s eta 0:00:01\n\u001b[?25hCollecting configparser>=3.5; python_version == \"2.7\" (from entrypoints->mlflow)\n  Downloading https://files.pythonhosted.org/packages/7a/2a/95ed0501cf5d8709490b1d3a3f9b5cf340da6c433f896bbe9ce08dbe6785/configparser-4.0.2-py2.py3-none-any.whl\nCollecting gitdb2<3,>=2 (from gitpython>=2.1.0->mlflow)\n  Downloading https://files.pythonhosted.org/packages/03/6c/99296f89bad2ef85626e1df9f677acbee8885bb043ad82ad3ed4746d2325/gitdb2-2.0.6-py2.py3-none-any.whl (63kB)\n\u001b[K    100% |████████████████████████████████| 71kB 10.8MB/s ta 0:00:01\n\u001b[?25hCollecting itsdangerous<2.0,>=0.24 (from Flask->mlflow)\n\u001b[33m  Cache entry deserialization failed, entry ignored\u001b[0m\n  Downloading https://files.pythonhosted.org/packages/76/ae/44b03b253d6fade317f32c24d100b3b35c2239807046a4c953c7b89fa49e/itsdangerous-1.1.0-py2.py3-none-any.whl\nCollecting Werkzeug<2.0,>=0.15 (from Flask->mlflow)\n\u001b[33m  Cache entry deserialization failed, entry ignored\u001b[0m\n  Downloading https://files.pythonhosted.org/packages/cc/94/5f7079a0e00bd6863ef8f1da638721e9da21e5bacee597595b318f71d62e/Werkzeug-1.0.1-py2.py3-none-any.whl (298kB)\n\u001b[K    100% |████████████████████████████████| 307kB 3.5MB/s eta 0:00:01\n\u001b[?25hCollecting Jinja2<3.0,>=2.10.1 (from Flask->mlflow)\n\u001b[33m  Cache entry deserialization failed, entry ignored\u001b[0m\n  Downloading https://files.pythonhosted.org/packages/7e/c2/1eece8c95ddbc9b1aeb64f5783a9e07a286de42191b7204d67b7496ddf35/Jinja2-2.11.3-py2.py3-none-any.whl (125kB)\n\u001b[K    100% |████████████████████████████████| 133kB 7.4MB/s eta 0:00:01\n\u001b[?25hCollecting prometheus_client (from prometheus-flask-exporter->mlflow)\n\u001b[33m  Cache entry deserialization failed, entry ignored\u001b[0m\n  Downloading https://files.pythonhosted.org/packages/df/6c/6c5f9404977f8f9caa30c1a408f6cc5ea6e0c1949761f24d0a33239b49c5/prometheus_client-0.12.0-py2.py3-none-any.whl (57kB)\n\u001b[K    100% |████████████████████████████████| 61kB 10.4MB/s ta 0:00:01\n\u001b[?25hCollecting pyjwt>=1.7.0 (from databricks-cli>=0.8.7->mlflow)\n\u001b[33m  Cache entry deserialization failed, entry ignored\u001b[0m\n  Downloading https://files.pythonhosted.org/packages/87/8b/6a9f14b5f781697e51259d81657e6048fd31a113229cf346880bb7545565/PyJWT-1.7.1-py2.py3-none-any.whl\nCollecting tabulate>=0.7.7 (from databricks-cli>=0.8.7->mlflow)\n\u001b[33m  Cache entry deserialization failed, entry ignored\u001b[0m\n  Downloading https://files.pythonhosted.org/packages/ae/3d/9d7576d94007eaf3bb685acbaaec66ff4cdeb0b18f1bf1f17edbeebffb0a/tabulate-0.8.9.tar.gz (53kB)\n\u001b[K    100% |████████████████████████████████| 61kB 8.9MB/s eta 0:00:01\n\u001b[?25hCollecting oauthlib>=3.1.0 (from databricks-cli>=0.8.7->mlflow)\n\u001b[33m  Cache entry deserialization failed, entry ignored\u001b[0m\n  Downloading https://files.pythonhosted.org/packages/05/57/ce2e7a8fa7c0afb54a0581b14a65b56e62b5759dbc98e80627142b8a3704/oauthlib-3.1.0-py2.py3-none-any.whl (147kB)\n\u001b[K    100% |████████████████████████████████| 153kB 6.4MB/s eta 0:00:01\n\u001b[?25hCollecting ipaddress>=1.0.16; python_version < \"3.3\" (from docker>=4.0.0->mlflow)\n  Downloading https://files.pythonhosted.org/packages/c2/f8/49697181b1651d8347d24c095ce46c7346c37335ddc7d255833e7cde674d/ipaddress-1.0.23-py2.py3-none-any.whl\nCollecting websocket-client>=0.32.0 (from docker>=4.0.0->mlflow)\n\u001b[33m  Cache entry deserialization failed, entry ignored\u001b[0m\n  Downloading https://files.pythonhosted.org/packages/f7/0c/d52a2a63512a613817846d430d16a8fbe5ea56dd889e89c68facf6b91cb6/websocket_client-0.59.0-py2.py3-none-any.whl (67kB)\n\u001b[K    100% |████████████████████████████████| 71kB 9.7MB/s eta 0:00:01\n\u001b[?25hCollecting backports.ssl-match-hostname>=3.5; python_version < \"3.5\" (from docker>=4.0.0->mlflow)\n  Downloading https://files.pythonhosted.org/packages/ff/2b/8265224812912bc5b7a607c44bf7b027554e1b9775e9ee0de8032e3de4b2/backports.ssl_match_hostname-3.7.0.1.tar.gz\nCollecting Mako (from alembic<=1.4.1->mlflow)\n\u001b[33m  Cache entry deserialization failed, entry ignored\u001b[0m\n  Downloading https://files.pythonhosted.org/packages/b4/4d/e03d08f16ee10e688bde9016bc80af8b78c7f36a8b37c7194da48f72207e/Mako-1.1.6-py2.py3-none-any.whl (75kB)\n\u001b[K    100% |████████████████████████████████| 81kB 9.9MB/s eta 0:00:01\n\u001b[?25hCollecting python-editor>=0.3 (from alembic<=1.4.1->mlflow)\n  Downloading https://files.pythonhosted.org/packages/55/a0/3c0ba1c10f2ca381645dd46cb7afbb73fddc8de9f957e1f9e726a846eabc/python_editor-1.0.4-py2-none-any.whl\nCollecting pytz>=2011k (from pandas->mlflow)\n\u001b[33m  Cache entry deserialization failed, entry ignored\u001b[0m\n\u001b[33m  Cache entry deserialization failed, entry ignored\u001b[0m\n  Downloading https://files.pythonhosted.org/packages/60/2e/dec1cc18c51b8df33c7c4d0a321b084cf38e1733b98f9d15018880fb4970/pytz-2022.1-py2.py3-none-any.whl (503kB)\n\u001b[K    100% |████████████████████████████████| 512kB 2.4MB/s eta 0:00:01\n\u001b[?25hCollecting idna<3,>=2.5; python_version < \"3\" (from requests>=2.17.3->mlflow)\n\u001b[33m  Cache entry deserialization failed, entry ignored\u001b[0m\n  Downloading https://files.pythonhosted.org/packages/a2/38/928ddce2273eaa564f6f50de919327bf3a00f091b5baba8dfa9460f3a8a8/idna-2.10-py2.py3-none-any.whl (58kB)\n\u001b[K    100% |████████████████████████████████| 61kB 8.7MB/s eta 0:00:01\n\u001b[?25hCollecting certifi>=2017.4.17 (from requests>=2.17.3->mlflow)\n\u001b[33m  Cache entry deserialization failed, entry ignored\u001b[0m\n\u001b[33m  Cache entry deserialization failed, entry ignored\u001b[0m\n  Downloading https://files.pythonhosted.org/packages/37/45/946c02767aabb873146011e665728b680884cd8fe70dde973c640e45b775/certifi-2021.10.8-py2.py3-none-any.whl (149kB)\n\u001b[K    100% |████████████████████████████████| 153kB 6.0MB/s eta 0:00:01\n\u001b[?25hCollecting urllib3<1.27,>=1.21.1 (from requests>=2.17.3->mlflow)\n\u001b[33m  Cache entry deserialization failed, entry ignored\u001b[0m\n\u001b[33m  Cache entry deserialization failed, entry ignored\u001b[0m\n  Downloading https://files.pythonhosted.org/packages/ec/03/062e6444ce4baf1eac17a6a0ebfe36bb1ad05e1df0e20b110de59c278498/urllib3-1.26.9-py2.py3-none-any.whl (138kB)\n\u001b[K    100% |████████████████████████████████| 143kB 7.6MB/s eta 0:00:01\n\u001b[?25hCollecting chardet<5,>=3.0.2; python_version < \"3\" (from requests>=2.17.3->mlflow)\n  Downloading https://files.pythonhosted.org/packages/19/c7/fa589626997dd07bd87d9269342ccb74b1720384a4d739a1872bd84fbe68/chardet-4.0.0-py2.py3-none-any.whl (178kB)\n\u001b[K    100% |████████████████████████████████| 184kB 6.0MB/s eta 0:00:01\n\u001b[?25hCollecting smmap2>=2.0.0 (from gitdb2<3,>=2->gitpython>=2.1.0->mlflow)\n  Downloading https://files.pythonhosted.org/packages/88/77/b1542b654fa594580fa82a1e0af4bf81074323d272a50a838c943e3de7b4/smmap2-3.0.1.tar.gz\nCollecting MarkupSafe>=0.23 (from Jinja2<3.0,>=2.10.1->Flask->mlflow)\n\u001b[33m  Cache entry deserialization failed, entry ignored\u001b[0m\n  Downloading https://files.pythonhosted.org/packages/fb/40/f3adb7cf24a8012813c5edb20329eb22d5d8e2a0ecf73d21d6b85865da11/MarkupSafe-1.1.1-cp27-cp27mu-manylinux1_x86_64.whl\nCollecting smmap>=3.0.1 (from smmap2>=2.0.0->gitdb2<3,>=2->gitpython>=2.1.0->mlflow)\n\u001b[33m  Cache entry deserialization failed, entry ignored\u001b[0m\n  Downloading https://files.pythonhosted.org/packages/d5/1e/6130925131f639b2acde0f7f18b73e33ce082ff2d90783c436b52040af5a/smmap-3.0.5-py2.py3-none-any.whl\nBuilding wheels for collected packages: prometheus-flask-exporter, alembic, sqlalchemy, tabulate, backports.ssl-match-hostname, smmap2\n  Running setup.py bdist_wheel for prometheus-flask-exporter ... \u001b[?25l-\b \bdone\n\u001b[?25h  Stored in directory: /home/azureuser/.cache/pip/wheels/e6/b2/c8/4dc639df4be0da905032727d045f27b761391d9b99453e0956\n  Running setup.py bdist_wheel for alembic ... \u001b[?25l-\b \bdone\n\u001b[?25h  Stored in directory: /home/azureuser/.cache/pip/wheels/84/07/f7/12f7370ca47a66030c2edeedcc23dec26ea0ac22dcb4c4a0f3\n  Running setup.py bdist_wheel for sqlalchemy ... \u001b[?25l-\b \b\\\b \b|\b \b/\b \b-\b \b\\\b \b|\b \b/\b \bdone\n\u001b[?25h  Stored in directory: /home/azureuser/.cache/pip/wheels/b3/35/98/4c9cb3fd63d21d5606b972dd70643769745adf60e622467b71\n  Running setup.py bdist_wheel for tabulate ... \u001b[?25l-\b \bdone\n\u001b[?25h  Stored in directory: /home/azureuser/.cache/pip/wheels/00/da/2e/15ed58ce0217c162f7f9c1bdd9e4d88c80a38d2e7314d0ce6c\n  Running setup.py bdist_wheel for backports.ssl-match-hostname ... \u001b[?25l-\b \bdone\n\u001b[?25h  Stored in directory: /home/azureuser/.cache/pip/wheels/f1/ad/d7/c184cf1ef67b07f98565dc52f91ed4f9a759b7b46674b2fd76\n  Running setup.py bdist_wheel for smmap2 ... \u001b[?25l-\b \bdone\n\u001b[?25h  Stored in directory: /home/azureuser/.cache/pip/wheels/e6/34/65/42a2718a80de888ec3da8ab8bc18c1511fe857d6713116af5f\nSuccessfully built prometheus-flask-exporter alembic sqlalchemy tabulate backports.ssl-match-hostname smmap2\nInstalling collected packages: simplejson, configparser, entrypoints, click, numpy, smmap, smmap2, gitdb2, gitpython, itsdangerous, Werkzeug, MarkupSafe, Jinja2, Flask, prometheus-client, prometheus-flask-exporter, pyjwt, tabulate, six, oauthlib, idna, certifi, urllib3, chardet, requests, databricks-cli, ipaddress, websocket-client, backports.ssl-match-hostname, docker, waitress, gunicorn, Mako, sqlalchemy, python-dateutil, python-editor, alembic, pytz, pandas, cloudpickle, gorilla, protobuf, sqlparse, querystring-parser, pyyaml, mlflow\nSuccessfully installed Flask-1.1.4 Jinja2-2.11.3 Mako-1.1.6 MarkupSafe-1.1.1 Werkzeug-1.0.1 alembic-1.4.1 backports.ssl-match-hostname-3.7.0.1 certifi-2021.10.8 chardet-4.0.0 click-7.1.2 cloudpickle-1.3.0 configparser-4.0.2 databricks-cli-0.16.6 docker-4.4.4 entrypoints-0.3 gitdb2-2.0.6 gitpython-2.1.15 gorilla-0.4.0 gunicorn-19.10.0 idna-2.10 ipaddress-1.0.23 itsdangerous-1.1.0 mlflow-1.7.2 numpy-1.16.6 oauthlib-3.1.0 pandas-0.24.2 prometheus-client-0.12.0 prometheus-flask-exporter-0.20.1 protobuf-3.18.0 pyjwt-1.7.1 python-dateutil-2.8.2 python-editor-1.0.4 pytz-2022.1 pyyaml-5.4.1 querystring-parser-1.2.4 requests-2.27.1 simplejson-3.17.6 six-1.16.0 smmap-3.0.5 smmap2-3.0.1 sqlalchemy-1.3.13 sqlparse-0.3.1 tabulate-0.8.9 urllib3-1.26.9 waitress-1.4.4 websocket-client-0.59.0\n"
        }
      ],
      "execution_count": 7,
      "metadata": {
        "jupyter": {
          "source_hidden": false,
          "outputs_hidden": false
        },
        "nteract": {
          "transient": {
            "deleting": false
          }
        }
      }
    },
    {
      "cell_type": "code",
      "source": [
        "import os\r\n",
        "from random import random\r\n",
        "import mlflow\r\n",
        "\r\n",
        "with mlflow.start_run() as mlflow_run:\r\n",
        "    mlflow.log_param(\"hello_param\", \"world\")\r\n",
        "    mlflow.log_metric(\"hello_metric\", random())\r\n",
        "    os.system(f\"echo 'hello world' > helloworld.txt\")\r\n",
        "    mlflow.log_artifact(\"helloworld.txt\")\r\n"
      ],
      "outputs": [],
      "execution_count": 9,
      "metadata": {
        "jupyter": {
          "source_hidden": false,
          "outputs_hidden": false
        },
        "nteract": {
          "transient": {
            "deleting": false
          }
        },
        "gather": {
          "logged": 1649854595493
        }
      }
    },
    {
      "cell_type": "code",
      "source": [],
      "outputs": [],
      "execution_count": null,
      "metadata": {
        "jupyter": {
          "source_hidden": false,
          "outputs_hidden": false
        },
        "nteract": {
          "transient": {
            "deleting": false
          }
        }
      }
    }
  ],
  "metadata": {
    "kernelspec": {
      "name": "python38-azureml",
      "language": "python",
      "display_name": "Python 3.8 - AzureML"
    },
    "language_info": {
      "name": "python",
      "version": "3.8.5",
      "mimetype": "text/x-python",
      "codemirror_mode": {
        "name": "ipython",
        "version": 3
      },
      "pygments_lexer": "ipython3",
      "nbconvert_exporter": "python",
      "file_extension": ".py"
    },
    "kernel_info": {
      "name": "python38-azureml"
    },
    "nteract": {
      "version": "nteract-front-end@1.0.0"
    }
  },
  "nbformat": 4,
  "nbformat_minor": 2
}