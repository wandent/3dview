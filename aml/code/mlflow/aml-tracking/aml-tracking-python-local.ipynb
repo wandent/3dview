{
  "cells": [
    {
      "cell_type": "code",
      "execution_count": null,
      "metadata": {},
      "outputs": [],
      "source": [
        "!pip install -U mlflow\n",
        "!pip install -U azureml-mlflow"
      ]
    },
    {
      "cell_type": "code",
      "execution_count": 7,
      "metadata": {
        "gather": {
          "logged": 1649855123350
        }
      },
      "outputs": [
        {
          "name": "stdout",
          "output_type": "stream",
          "text": [
            "MLFlow Tracking URI: \n"
          ]
        }
      ],
      "source": [
        "import mlflow\n",
        "\n",
        "## Construct AzureML MLFLOW TRACKING URI\n",
        "def get_azureml_mlflow_tracking_uri(region, subscription_id, resource_group, workspace):\n",
        "    return \"azureml://{}.api.azureml.ms/mlflow/v1.0/subscriptions/{}/resourceGroups/{}/providers/Microsoft.MachineLearningServices/workspaces/{}\".format(region, subscription_id, resource_group, workspace)\n",
        "\n",
        "region='eastus' ## example: westus\n",
        "subscription_id = '062bbb35-45d7-40c6-937f-a43ab3667b0f' ## example: 11111111-1111-1111-1111-111111111111\n",
        "resource_group = 'rg-dev-geog-eastus' ## example: myresourcegroup\n",
        "workspace = 'mlw-dev-geog-01' ## example: myworkspacename\n",
        "\n",
        "# MLFLOW_TRACKING_URI = get_azureml_mlflow_tracking_uri(region, subscription_id, resource_group, workspace)\n",
        "\n",
        "#log data locally when running outside azureml\n",
        "MLFLOW_TRACKING_URI =\"\"\n",
        "\n",
        "## Set the MLFLOW TRACKING URI\n",
        "\n",
        "mlflow.set_tracking_uri(MLFLOW_TRACKING_URI)\n",
        "\n",
        "## Make sure the MLflow URI looks something like this: \n",
        "## azureml://<REGION>.api.azureml.ms/mlflow/v1.0/subscriptions/<SUBSCRIPTION_ID>/resourceGroups/<RESOURCE_GROUP>/providers/Microsoft.MachineLearningServices/workspaces/<AML_WORKSPACE_NAME>\n",
        "\n",
        "print(\"MLFlow Tracking URI:\", MLFLOW_TRACKING_URI)\n"
      ]
    },
    {
      "cell_type": "code",
      "execution_count": 9,
      "metadata": {
        "gather": {
          "logged": 1649855136196
        },
        "jupyter": {
          "outputs_hidden": false,
          "source_hidden": false
        },
        "nteract": {
          "transient": {
            "deleting": false
          }
        }
      },
      "outputs": [
        {
          "data": {
            "text/plain": [
              "<Experiment: artifact_location='file:///workspaces/3dview/aml/code/mlflow/aml-tracking/mlruns/1', experiment_id='1', lifecycle_stage='active', name='experiment_with_mlflow_python', tags={}>"
            ]
          },
          "execution_count": 9,
          "metadata": {},
          "output_type": "execute_result"
        }
      ],
      "source": [
        "experiment_name = 'experiment_with_mlflow_python'\n",
        "mlflow.set_experiment(experiment_name)"
      ]
    },
    {
      "cell_type": "code",
      "execution_count": 10,
      "metadata": {
        "gather": {
          "logged": 1649855147143
        },
        "jupyter": {
          "outputs_hidden": false,
          "source_hidden": false
        },
        "nteract": {
          "transient": {
            "deleting": false
          }
        }
      },
      "outputs": [],
      "source": [
        "import os\n",
        "from random import random\n",
        "import mlflow\n",
        "\n",
        "with mlflow.start_run() as mlflow_run:\n",
        "    mlflow.log_param(\"hello_param\", \"world\")\n",
        "    mlflow.log_metric(\"hello_metric\", random())\n",
        "    os.system(f\"echo 'hello world' > helloworld.txt\")\n",
        "    mlflow.log_artifact(\"helloworld.txt\")\n"
      ]
    },
    {
      "cell_type": "code",
      "execution_count": 11,
      "metadata": {
        "jupyter": {
          "outputs_hidden": false,
          "source_hidden": false
        },
        "nteract": {
          "transient": {
            "deleting": false
          }
        }
      },
      "outputs": [
        {
          "name": "stdout",
          "output_type": "stream",
          "text": [
            "{'hello_metric': 0.3302011325139348} {'mlflow.source.name': '/opt/conda/lib/python3.9/site-packages/ipykernel_launcher.py', 'mlflow.source.type': 'LOCAL', 'mlflow.user': 'vscode'} {'hello_param': 'world'}\n"
          ]
        }
      ],
      "source": [
        "# Read metrics after the training\n",
        "from mlflow.entities import ViewType\n",
        "from mlflow.tracking import MlflowClient\n",
        "\n",
        "# Retrieve run ID for the last run experiement\n",
        "current_experiment=mlflow.get_experiment_by_name(experiment_name)\n",
        "runs = mlflow.search_runs(experiment_ids=current_experiment.experiment_id, run_view_type=ViewType.ALL)\n",
        "run_id = runs.tail(1)[\"run_id\"].tolist()[0]\n",
        "\n",
        "# Use MlFlow to retrieve the run that was just completed\n",
        "client = MlflowClient()\n",
        "finished_mlflow_run = MlflowClient().get_run(run_id)\n",
        "\n",
        "metrics = finished_mlflow_run.data.metrics\n",
        "tags = finished_mlflow_run.data.tags\n",
        "params = finished_mlflow_run.data.params\n",
        "\n",
        "print(metrics,tags,params)"
      ]
    },
    {
      "cell_type": "code",
      "execution_count": 12,
      "metadata": {},
      "outputs": [
        {
          "data": {
            "text/plain": [
              "[<FileInfo: file_size=12, is_dir=False, path='helloworld.txt'>]"
            ]
          },
          "execution_count": 12,
          "metadata": {},
          "output_type": "execute_result"
        }
      ],
      "source": [
        "# retrieve artifacts with mlflow\n",
        "client.list_artifacts(run_id)"
      ]
    },
    {
      "cell_type": "code",
      "execution_count": 14,
      "metadata": {},
      "outputs": [
        {
          "data": {
            "text/plain": [
              "'/workspaces/3dview/aml/code/mlflow/aml-tracking/helloworld.txt'"
            ]
          },
          "execution_count": 14,
          "metadata": {},
          "output_type": "execute_result"
        }
      ],
      "source": [
        "client.download_artifacts(run_id, \"helloworld.txt\", \".\")"
      ]
    },
    {
      "cell_type": "code",
      "execution_count": null,
      "metadata": {},
      "outputs": [],
      "source": []
    }
  ],
  "metadata": {
    "interpreter": {
      "hash": "d4d1e4263499bec80672ea0156c357c1ee493ec2b1c70f0acce89fc37c4a6abe"
    },
    "kernel_info": {
      "name": "python38-azureml"
    },
    "kernelspec": {
      "display_name": "Python 3.8 - AzureML",
      "language": "python",
      "name": "python3"
    },
    "language_info": {
      "codemirror_mode": {
        "name": "ipython",
        "version": 3
      },
      "file_extension": ".py",
      "mimetype": "text/x-python",
      "name": "python",
      "nbconvert_exporter": "python",
      "pygments_lexer": "ipython3",
      "version": "3.9.7"
    },
    "nteract": {
      "version": "nteract-front-end@1.0.0"
    }
  },
  "nbformat": 4,
  "nbformat_minor": 2
}
