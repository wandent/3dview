{
  "cells": [
    {
      "cell_type": "code",
      "source": [
        "import mlflow\r\n",
        "\r\n",
        "## Construct AzureML MLFLOW TRACKING URI\r\n",
        "def get_azureml_mlflow_tracking_uri(region, subscription_id, resource_group, workspace):\r\n",
        "    return \"azureml://{}.api.azureml.ms/mlflow/v1.0/subscriptions/{}/resourceGroups/{}/providers/Microsoft.MachineLearningServices/workspaces/{}\".format(region, subscription_id, resource_group, workspace)\r\n",
        "\r\n",
        "region='eastus' ## example: westus\r\n",
        "subscription_id = '062bbb35-45d7-40c6-937f-a43ab3667b0f' ## example: 11111111-1111-1111-1111-111111111111\r\n",
        "resource_group = 'rg-dev-geog-eastus' ## example: myresourcegroup\r\n",
        "workspace = 'mlw-dev-geog-01' ## example: myworkspacename\r\n",
        "\r\n",
        "MLFLOW_TRACKING_URI = get_azureml_mlflow_tracking_uri(region, subscription_id, resource_group, workspace)\r\n",
        "\r\n",
        "## Set the MLFLOW TRACKING URI\r\n",
        "mlflow.set_tracking_uri(MLFLOW_TRACKING_URI)\r\n",
        "\r\n",
        "## Make sure the MLflow URI looks something like this: \r\n",
        "## azureml://<REGION>.api.azureml.ms/mlflow/v1.0/subscriptions/<SUBSCRIPTION_ID>/resourceGroups/<RESOURCE_GROUP>/providers/Microsoft.MachineLearningServices/workspaces/<AML_WORKSPACE_NAME>\r\n",
        "\r\n",
        "print(\"MLFlow Tracking URI:\", MLFLOW_TRACKING_URI)\r\n"
      ],
      "outputs": [
        {
          "output_type": "stream",
          "name": "stdout",
          "text": "MLFlow Tracking URI: azureml://eastus.api.azureml.ms/mlflow/v1.0/subscriptions/062bbb35-45d7-40c6-937f-a43ab3667b0f/resourceGroups/rg-dev-geog-eastus/providers/Microsoft.MachineLearningServices/workspaces/mlw-dev-geog-01\n"
        }
      ],
      "execution_count": 2,
      "metadata": {
        "gather": {
          "logged": 1649855123350
        }
      }
    },
    {
      "cell_type": "code",
      "source": [
        "experiment_name = 'experiment_with_mlflow_python'\r\n",
        "mlflow.set_experiment(experiment_name)"
      ],
      "outputs": [
        {
          "output_type": "stream",
          "name": "stderr",
          "text": "2022/04/13 13:05:34 INFO mlflow.tracking.fluent: Experiment with name 'experiment_with_mlflow_python' does not exist. Creating a new experiment.\n"
        },
        {
          "output_type": "execute_result",
          "execution_count": 3,
          "data": {
            "text/plain": "<Experiment: artifact_location='', experiment_id='8a314941-9201-4060-b57d-36b0e8e1f4c2', lifecycle_stage='active', name='experiment_with_mlflow_python', tags={}>"
          },
          "metadata": {}
        }
      ],
      "execution_count": 3,
      "metadata": {
        "jupyter": {
          "source_hidden": false,
          "outputs_hidden": false
        },
        "nteract": {
          "transient": {
            "deleting": false
          }
        },
        "gather": {
          "logged": 1649855136196
        }
      }
    },
    {
      "cell_type": "code",
      "source": [
        "import os\r\n",
        "from random import random\r\n",
        "import mlflow\r\n",
        "\r\n",
        "with mlflow.start_run() as mlflow_run:\r\n",
        "    mlflow.log_param(\"hello_param\", \"world\")\r\n",
        "    mlflow.log_metric(\"hello_metric\", random())\r\n",
        "    os.system(f\"echo 'hello world' > helloworld.txt\")\r\n",
        "    mlflow.log_artifact(\"helloworld.txt\")\r\n"
      ],
      "outputs": [],
      "execution_count": 4,
      "metadata": {
        "jupyter": {
          "source_hidden": false,
          "outputs_hidden": false
        },
        "nteract": {
          "transient": {
            "deleting": false
          }
        },
        "gather": {
          "logged": 1649855147143
        }
      }
    },
    {
      "cell_type": "code",
      "source": [],
      "outputs": [],
      "execution_count": null,
      "metadata": {
        "jupyter": {
          "source_hidden": false,
          "outputs_hidden": false
        },
        "nteract": {
          "transient": {
            "deleting": false
          }
        }
      }
    }
  ],
  "metadata": {
    "kernelspec": {
      "name": "python38-azureml",
      "language": "python",
      "display_name": "Python 3.8 - AzureML"
    },
    "language_info": {
      "name": "python",
      "version": "3.8.5",
      "mimetype": "text/x-python",
      "codemirror_mode": {
        "name": "ipython",
        "version": 3
      },
      "pygments_lexer": "ipython3",
      "nbconvert_exporter": "python",
      "file_extension": ".py"
    },
    "kernel_info": {
      "name": "python38-azureml"
    },
    "nteract": {
      "version": "nteract-front-end@1.0.0"
    }
  },
  "nbformat": 4,
  "nbformat_minor": 2
}