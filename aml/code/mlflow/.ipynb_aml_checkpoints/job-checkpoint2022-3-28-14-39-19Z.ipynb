{
  "cells": [
    {
      "cell_type": "code",
      "source": [
        "!az ml job create -f job.yml --web"
      ],
      "outputs": [
        {
          "output_type": "stream",
          "name": "stdout",
          "text": "\u001b[36mCommand group 'ml job' is in preview and under development. Reference and support levels: https://aka.ms/CLI_refstatus\u001b[0m\n{\n  \"code\": \"/subscriptions/062bbb35-45d7-40c6-937f-a43ab3667b0f/resourceGroups/rg-dev-geog-eastus/providers/Microsoft.MachineLearningServices/workspaces/mlw-dev-geog-01/codes/94cd73d3-0743-4c7a-bf40-e800e05e0232/versions/1\",\n  \"command\": \"pip install mlflow && mlflow run . --no-conda\",\n  \"compute\": \"azureml:cpu-cluster\",\n  \"creation_context\": {\n    \"created_at\": \"2022-04-13T20:04:44.813063+00:00\",\n    \"created_by\": \"Wandenkolk Tinoco Neto\",\n    \"created_by_type\": \"User\"\n  },\n  \"display_name\": \"tough_roti_c0bhwp4r6t\",\n  \"environment\": \"azureml:AzureML-sklearn-1.0-ubuntu20.04-py38-cpu:14\",\n  \"environment_variables\": {},\n  \"experiment_name\": \"autolog-tf\",\n  \"id\": \"azureml:/subscriptions/062bbb35-45d7-40c6-937f-a43ab3667b0f/resourceGroups/rg-dev-geog-eastus/providers/Microsoft.MachineLearningServices/workspaces/mlw-dev-geog-01/jobs/tough_roti_c0bhwp4r6t\",\n  \"inputs\": {},\n  \"name\": \"tough_roti_c0bhwp4r6t\",\n  \"outputs\": {\n    \"default\": {\n      \"mode\": \"rw_mount\",\n      \"path\": \"azureml://datastores/workspaceartifactstore/ExperimentRun/dcid.tough_roti_c0bhwp4r6t\",\n      \"type\": \"uri_folder\"\n    }\n  },\n  \"parameters\": {},\n  \"properties\": {\n    \"ContentSnapshotId\": \"09598393-24e3-408b-96d3-bf422ebf81e2\",\n    \"_azureml.ComputeTargetType\": \"amlctrain\",\n    \"azureml.git.dirty\": \"True\",\n    \"mlflow.source.git.branch\": \"main\",\n    \"mlflow.source.git.commit\": \"1c8c637fe2ab2f091c4eeeff2484edc2fc9d7e05\",\n    \"mlflow.source.git.repoURL\": \"https://github.com/wandent/3dview.git\"\n  },\n  \"resourceGroup\": \"rg-dev-geog-eastus\",\n  \"resources\": {\n    \"instance_count\": 1,\n    \"properties\": {}\n  },\n  \"services\": {\n    \"Studio\": {\n      \"endpoint\": \"https://ml.azure.com/runs/tough_roti_c0bhwp4r6t?wsid=/subscriptions/062bbb35-45d7-40c6-937f-a43ab3667b0f/resourcegroups/rg-dev-geog-eastus/workspaces/mlw-dev-geog-01&tid=5b6f6241-9a57-4be4-8e50-1dfa72e79a57\",\n      \"job_service_type\": \"Studio\"\n    },\n    \"Tracking\": {\n      \"endpoint\": \"azureml://eastus.api.azureml.ms/mlflow/v1.0/subscriptions/062bbb35-45d7-40c6-937f-a43ab3667b0f/resourceGroups/rg-dev-geog-eastus/providers/Microsoft.MachineLearningServices/workspaces/mlw-dev-geog-01?\",\n      \"job_service_type\": \"Tracking\"\n    }\n  },\n  \"status\": \"Starting\",\n  \"tags\": {},\n  \"type\": \"command\"\n}\n\u001b[0m"
        }
      ],
      "execution_count": 1,
      "metadata": {}
    },
    {
      "cell_type": "code",
      "source": [
        "!printenv MLFLOW_TRACKING_URI\r\n",
        "!printenv MLFLOW_EXPERIMENT_NAME\r\n",
        "#!export MLFLOW_EXPERIMENT_NAME=\"experiment_with_mlflow\""
      ],
      "outputs": [
        {
          "output_type": "stream",
          "name": "stdout",
          "text": "azureml://eastus.api.azureml.ms/mlflow/v1.0/subscriptions/062bbb35-45d7-40c6-937f-a43ab3667b0f/resourceGroups/rg-dev-geog-eastus/providers/Microsoft.MachineLearningServices/workspaces/mlw-dev-geog-01\r\n"
        }
      ],
      "execution_count": 5,
      "metadata": {
        "jupyter": {
          "source_hidden": false,
          "outputs_hidden": false
        },
        "nteract": {
          "transient": {
            "deleting": false
          }
        },
        "gather": {
          "logged": 1649941369444
        }
      }
    },
    {
      "cell_type": "code",
      "source": [
        "!printenv MLFLOW_EXPERIMENT_NAME"
      ],
      "outputs": [],
      "execution_count": 6,
      "metadata": {
        "jupyter": {
          "source_hidden": false,
          "outputs_hidden": false
        },
        "nteract": {
          "transient": {
            "deleting": false
          }
        }
      }
    },
    {
      "cell_type": "code",
      "source": [
        "!az ml workspace update --name mlw-dev-geog-01 --resource-group rg-dev-geog-eastus --image-build-compute Imagebuild2\r\n"
      ],
      "outputs": [
        {
          "output_type": "stream",
          "name": "stdout",
          "text": "\u001b[36mCommand group 'ml workspace' is in preview and under development. Reference and support levels: https://aka.ms/CLI_refstatus\u001b[0m\n{\n  \"application_insights\": \"/subscriptions/062bbb35-45d7-40c6-937f-a43ab3667b0f/resourcegroups/rg-dev-geog-eastus/providers/microsoft.insights/components/appi-dev-geog-mlw\",\n  \"container_registry\": \"/subscriptions/062bbb35-45d7-40c6-937f-a43ab3667b0f/resourcegroups/rg-dev-geog-eastus/providers/microsoft.containerregistry/registries/crdevgeogmlw\",\n  \"description\": \"\",\n  \"discovery_url\": \"https://eastus.api.azureml.ms/discovery\",\n  \"display_name\": \"mlw-dev-geog-01\",\n  \"hbi_workspace\": false,\n  \"id\": \"/subscriptions/062bbb35-45d7-40c6-937f-a43ab3667b0f/resourceGroups/rg-dev-geog-eastus/providers/Microsoft.MachineLearningServices/workspaces/mlw-dev-geog-01\",\n  \"image_build_compute\": \"Imagebuild2\",\n  \"key_vault\": \"/subscriptions/062bbb35-45d7-40c6-937f-a43ab3667b0f/resourcegroups/rg-dev-geog-eastus/providers/microsoft.keyvault/vaults/kv-dev-geog-mlw\",\n  \"location\": \"eastus\",\n  \"mlflow_tracking_uri\": \"azureml://eastus.api.azureml.ms/mlflow/v1.0/subscriptions/062bbb35-45d7-40c6-937f-a43ab3667b0f/resourceGroups/rg-dev-geog-eastus/providers/Microsoft.MachineLearningServices/workspaces/mlw-dev-geog-01\",\n  \"name\": \"mlw-dev-geog-01\",\n  \"public_network_access\": \"Enabled\",\n  \"resourceGroup\": \"rg-dev-geog-eastus\",\n  \"resource_group\": \"rg-dev-geog-eastus\",\n  \"storage_account\": \"/subscriptions/062bbb35-45d7-40c6-937f-a43ab3667b0f/resourcegroups/rg-dev-geog-eastus/providers/microsoft.storage/storageaccounts/stdevptbgeogmlw\",\n  \"tags\": {\n    \"ops-ambiente\": \"nao-produtivo\",\n    \"ops-produto\": \"PN00400079\",\n    \"ops-servico\": \"CORE-AZURE-NPRD\",\n    \"sec-conformidade\": \"n/a\"\n  }\n}\n\u001b[0m"
        }
      ],
      "execution_count": 7,
      "metadata": {
        "jupyter": {
          "source_hidden": false,
          "outputs_hidden": false
        },
        "nteract": {
          "transient": {
            "deleting": false
          }
        }
      }
    },
    {
      "cell_type": "code",
      "source": [],
      "outputs": [],
      "execution_count": null,
      "metadata": {
        "jupyter": {
          "source_hidden": false,
          "outputs_hidden": false
        },
        "nteract": {
          "transient": {
            "deleting": false
          }
        }
      }
    }
  ],
  "metadata": {
    "kernelspec": {
      "name": "python38-azureml",
      "language": "python",
      "display_name": "Python 3.8 - AzureML"
    },
    "language_info": {
      "name": "python",
      "version": "3.8.5",
      "mimetype": "text/x-python",
      "codemirror_mode": {
        "name": "ipython",
        "version": 3
      },
      "pygments_lexer": "ipython3",
      "nbconvert_exporter": "python",
      "file_extension": ".py"
    },
    "kernel_info": {
      "name": "python38-azureml"
    },
    "nteract": {
      "version": "nteract-front-end@1.0.0"
    }
  },
  "nbformat": 4,
  "nbformat_minor": 2
}