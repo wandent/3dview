{
  "cells": [
    {
      "cell_type": "code",
      "source": [
        "!az ml job create -f mlflow-job.yml --web"
      ],
      "outputs": [
        {
          "output_type": "stream",
          "name": "stdout",
          "text": "\u001b[36mCommand group 'ml job' is in preview and under development. Reference and support levels: https://aka.ms/CLI_refstatus\u001b[0m\n\u001b[32mUploading src (0.0 MBs): 100%|███████████| 2840/2840 [00:00<00:00, 49760.73it/s]\u001b[0m\n\u001b[39m\n\n{\n  \"code\": \"/subscriptions/062bbb35-45d7-40c6-937f-a43ab3667b0f/resourceGroups/rg-dev-geog-eastus/providers/Microsoft.MachineLearningServices/workspaces/mlw-dev-geog-01/codes/bef874fd-d214-4c56-8ccf-027c8b93c0b0/versions/1\",\n  \"command\": \"pip install mlflow azureml-mlflow  &&  python train.py\",\n  \"compute\": \"azureml:cpu-cluster\",\n  \"creation_context\": {\n    \"created_at\": \"2022-04-13T18:53:55.039743+00:00\",\n    \"created_by\": \"Wandenkolk Tinoco Neto\",\n    \"created_by_type\": \"User\"\n  },\n  \"display_name\": \"purple_soursop_6mk3d61ss5\",\n  \"environment\": \"azureml:CliV2AnonymousEnvironment:82bc8463-084d-402e-af34-bf332a677a01\",\n  \"environment_variables\": {},\n  \"experiment_name\": \"job_experiment_with_mlflow\",\n  \"id\": \"azureml:/subscriptions/062bbb35-45d7-40c6-937f-a43ab3667b0f/resourceGroups/rg-dev-geog-eastus/providers/Microsoft.MachineLearningServices/workspaces/mlw-dev-geog-01/jobs/purple_soursop_6mk3d61ss5\",\n  \"inputs\": {},\n  \"name\": \"purple_soursop_6mk3d61ss5\",\n  \"outputs\": {\n    \"default\": {\n      \"mode\": \"rw_mount\",\n      \"path\": \"azureml://datastores/workspaceartifactstore/ExperimentRun/dcid.purple_soursop_6mk3d61ss5\",\n      \"type\": \"uri_folder\"\n    }\n  },\n  \"parameters\": {},\n  \"properties\": {\n    \"ContentSnapshotId\": \"816bd906-19c0-4efd-993a-648c46d51a2b\",\n    \"_azureml.ComputeTargetType\": \"amlctrain\",\n    \"azureml.git.dirty\": \"True\",\n    \"mlflow.source.git.branch\": \"main\",\n    \"mlflow.source.git.commit\": \"bc3ff202ec2aefd1d98291e7ea6a48d99ed23b66\",\n    \"mlflow.source.git.repoURL\": \"https://github.com/wandent/3dview.git\"\n  },\n  \"resourceGroup\": \"rg-dev-geog-eastus\",\n  \"resources\": {\n    \"instance_count\": 1,\n    \"properties\": {}\n  },\n  \"services\": {\n    \"Studio\": {\n      \"endpoint\": \"https://ml.azure.com/runs/purple_soursop_6mk3d61ss5?wsid=/subscriptions/062bbb35-45d7-40c6-937f-a43ab3667b0f/resourcegroups/rg-dev-geog-eastus/workspaces/mlw-dev-geog-01&tid=5b6f6241-9a57-4be4-8e50-1dfa72e79a57\",\n      \"job_service_type\": \"Studio\"\n    },\n    \"Tracking\": {\n      \"endpoint\": \"azureml://eastus.api.azureml.ms/mlflow/v1.0/subscriptions/062bbb35-45d7-40c6-937f-a43ab3667b0f/resourceGroups/rg-dev-geog-eastus/providers/Microsoft.MachineLearningServices/workspaces/mlw-dev-geog-01?\",\n      \"job_service_type\": \"Tracking\"\n    }\n  },\n  \"status\": \"Starting\",\n  \"tags\": {},\n  \"type\": \"command\"\n}\n\u001b[0m"
        }
      ],
      "execution_count": 8,
      "metadata": {}
    },
    {
      "cell_type": "code",
      "source": [],
      "outputs": [],
      "execution_count": null,
      "metadata": {
        "jupyter": {
          "outputs_hidden": false,
          "source_hidden": false
        },
        "nteract": {
          "transient": {
            "deleting": false
          }
        }
      }
    }
  ],
  "metadata": {
    "kernel_info": {
      "name": "python38-azureml"
    },
    "kernelspec": {
      "name": "python38-azureml",
      "language": "python",
      "display_name": "Python 3.8 - AzureML"
    },
    "language_info": {
      "name": "python",
      "version": "3.8.5",
      "mimetype": "text/x-python",
      "codemirror_mode": {
        "name": "ipython",
        "version": 3
      },
      "pygments_lexer": "ipython3",
      "nbconvert_exporter": "python",
      "file_extension": ".py"
    },
    "nteract": {
      "version": "nteract-front-end@1.0.0"
    }
  },
  "nbformat": 4,
  "nbformat_minor": 2
}